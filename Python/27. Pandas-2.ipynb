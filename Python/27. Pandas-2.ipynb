{
 "cells": [
  {
   "cell_type": "code",
   "execution_count": 2,
   "id": "cb4d5f22-9359-4d4c-bac6-1f99f9cfcf3d",
   "metadata": {},
   "outputs": [],
   "source": [
    "import pandas as pd\n",
    "import numpy as np"
   ]
  },
  {
   "cell_type": "code",
   "execution_count": 3,
   "id": "a031c534-b359-42ac-93fd-48e6ece65f77",
   "metadata": {},
   "outputs": [],
   "source": [
    "# Create DataFrame with missing values\n",
    "data_with_na = {\n",
    "    'A': [1, 2, np.nan, 4, 5,np.nan],\n",
    "    'B': [np.nan, 2, 3, 4, np.nan, 55],\n",
    "    'C': ['x', 'y', None, 'w', 'z', None]\n",
    "}\n",
    "df_na = pd.DataFrame(data_with_na)"
   ]
  },
  {
   "cell_type": "code",
   "execution_count": 4,
   "id": "b748fce7-4fcb-4174-ad7d-cfca53935924",
   "metadata": {},
   "outputs": [
    {
     "data": {
      "text/html": [
       "<div>\n",
       "<style scoped>\n",
       "    .dataframe tbody tr th:only-of-type {\n",
       "        vertical-align: middle;\n",
       "    }\n",
       "\n",
       "    .dataframe tbody tr th {\n",
       "        vertical-align: top;\n",
       "    }\n",
       "\n",
       "    .dataframe thead th {\n",
       "        text-align: right;\n",
       "    }\n",
       "</style>\n",
       "<table border=\"1\" class=\"dataframe\">\n",
       "  <thead>\n",
       "    <tr style=\"text-align: right;\">\n",
       "      <th></th>\n",
       "      <th>A</th>\n",
       "      <th>B</th>\n",
       "      <th>C</th>\n",
       "    </tr>\n",
       "  </thead>\n",
       "  <tbody>\n",
       "    <tr>\n",
       "      <th>0</th>\n",
       "      <td>1.0</td>\n",
       "      <td>NaN</td>\n",
       "      <td>x</td>\n",
       "    </tr>\n",
       "    <tr>\n",
       "      <th>1</th>\n",
       "      <td>2.0</td>\n",
       "      <td>2.0</td>\n",
       "      <td>y</td>\n",
       "    </tr>\n",
       "    <tr>\n",
       "      <th>2</th>\n",
       "      <td>NaN</td>\n",
       "      <td>3.0</td>\n",
       "      <td>None</td>\n",
       "    </tr>\n",
       "    <tr>\n",
       "      <th>3</th>\n",
       "      <td>4.0</td>\n",
       "      <td>4.0</td>\n",
       "      <td>w</td>\n",
       "    </tr>\n",
       "    <tr>\n",
       "      <th>4</th>\n",
       "      <td>5.0</td>\n",
       "      <td>NaN</td>\n",
       "      <td>z</td>\n",
       "    </tr>\n",
       "    <tr>\n",
       "      <th>5</th>\n",
       "      <td>NaN</td>\n",
       "      <td>55.0</td>\n",
       "      <td>None</td>\n",
       "    </tr>\n",
       "  </tbody>\n",
       "</table>\n",
       "</div>"
      ],
      "text/plain": [
       "     A     B     C\n",
       "0  1.0   NaN     x\n",
       "1  2.0   2.0     y\n",
       "2  NaN   3.0  None\n",
       "3  4.0   4.0     w\n",
       "4  5.0   NaN     z\n",
       "5  NaN  55.0  None"
      ]
     },
     "execution_count": 4,
     "metadata": {},
     "output_type": "execute_result"
    }
   ],
   "source": [
    "df_na"
   ]
  },
  {
   "cell_type": "code",
   "execution_count": 5,
   "id": "2b8ccb67-25ba-49d1-8895-fb7cb8cf04d5",
   "metadata": {},
   "outputs": [
    {
     "data": {
      "text/plain": [
       "A    2\n",
       "B    2\n",
       "C    2\n",
       "dtype: int64"
      ]
     },
     "execution_count": 5,
     "metadata": {},
     "output_type": "execute_result"
    }
   ],
   "source": [
    "df_na.isna().sum()"
   ]
  },
  {
   "cell_type": "code",
   "execution_count": 6,
   "id": "dc3b26f1-f5e4-498e-9aad-3fce6e831ba9",
   "metadata": {},
   "outputs": [
    {
     "data": {
      "text/html": [
       "<div>\n",
       "<style scoped>\n",
       "    .dataframe tbody tr th:only-of-type {\n",
       "        vertical-align: middle;\n",
       "    }\n",
       "\n",
       "    .dataframe tbody tr th {\n",
       "        vertical-align: top;\n",
       "    }\n",
       "\n",
       "    .dataframe thead th {\n",
       "        text-align: right;\n",
       "    }\n",
       "</style>\n",
       "<table border=\"1\" class=\"dataframe\">\n",
       "  <thead>\n",
       "    <tr style=\"text-align: right;\">\n",
       "      <th></th>\n",
       "      <th>A</th>\n",
       "      <th>B</th>\n",
       "      <th>C</th>\n",
       "    </tr>\n",
       "  </thead>\n",
       "  <tbody>\n",
       "    <tr>\n",
       "      <th>1</th>\n",
       "      <td>2.0</td>\n",
       "      <td>2.0</td>\n",
       "      <td>y</td>\n",
       "    </tr>\n",
       "    <tr>\n",
       "      <th>3</th>\n",
       "      <td>4.0</td>\n",
       "      <td>4.0</td>\n",
       "      <td>w</td>\n",
       "    </tr>\n",
       "  </tbody>\n",
       "</table>\n",
       "</div>"
      ],
      "text/plain": [
       "     A    B  C\n",
       "1  2.0  2.0  y\n",
       "3  4.0  4.0  w"
      ]
     },
     "execution_count": 6,
     "metadata": {},
     "output_type": "execute_result"
    }
   ],
   "source": [
    "df_na.dropna()"
   ]
  },
  {
   "cell_type": "code",
   "execution_count": 8,
   "id": "fc70b4b4-ba25-4769-9b7d-d9a558209d25",
   "metadata": {},
   "outputs": [
    {
     "data": {
      "text/html": [
       "<div>\n",
       "<style scoped>\n",
       "    .dataframe tbody tr th:only-of-type {\n",
       "        vertical-align: middle;\n",
       "    }\n",
       "\n",
       "    .dataframe tbody tr th {\n",
       "        vertical-align: top;\n",
       "    }\n",
       "\n",
       "    .dataframe thead th {\n",
       "        text-align: right;\n",
       "    }\n",
       "</style>\n",
       "<table border=\"1\" class=\"dataframe\">\n",
       "  <thead>\n",
       "    <tr style=\"text-align: right;\">\n",
       "      <th></th>\n",
       "      <th>A</th>\n",
       "      <th>B</th>\n",
       "      <th>C</th>\n",
       "    </tr>\n",
       "  </thead>\n",
       "  <tbody>\n",
       "    <tr>\n",
       "      <th>0</th>\n",
       "      <td>1.0</td>\n",
       "      <td>NaN</td>\n",
       "      <td>x</td>\n",
       "    </tr>\n",
       "    <tr>\n",
       "      <th>1</th>\n",
       "      <td>2.0</td>\n",
       "      <td>2.0</td>\n",
       "      <td>y</td>\n",
       "    </tr>\n",
       "    <tr>\n",
       "      <th>3</th>\n",
       "      <td>4.0</td>\n",
       "      <td>4.0</td>\n",
       "      <td>w</td>\n",
       "    </tr>\n",
       "    <tr>\n",
       "      <th>4</th>\n",
       "      <td>5.0</td>\n",
       "      <td>NaN</td>\n",
       "      <td>z</td>\n",
       "    </tr>\n",
       "  </tbody>\n",
       "</table>\n",
       "</div>"
      ],
      "text/plain": [
       "     A    B  C\n",
       "0  1.0  NaN  x\n",
       "1  2.0  2.0  y\n",
       "3  4.0  4.0  w\n",
       "4  5.0  NaN  z"
      ]
     },
     "execution_count": 8,
     "metadata": {},
     "output_type": "execute_result"
    }
   ],
   "source": [
    "df_na.dropna(thresh=2)"
   ]
  },
  {
   "cell_type": "code",
   "execution_count": 11,
   "id": "9f196732-b021-457d-873f-ed4637c5490b",
   "metadata": {},
   "outputs": [
    {
     "data": {
      "text/html": [
       "<div>\n",
       "<style scoped>\n",
       "    .dataframe tbody tr th:only-of-type {\n",
       "        vertical-align: middle;\n",
       "    }\n",
       "\n",
       "    .dataframe tbody tr th {\n",
       "        vertical-align: top;\n",
       "    }\n",
       "\n",
       "    .dataframe thead th {\n",
       "        text-align: right;\n",
       "    }\n",
       "</style>\n",
       "<table border=\"1\" class=\"dataframe\">\n",
       "  <thead>\n",
       "    <tr style=\"text-align: right;\">\n",
       "      <th></th>\n",
       "      <th>A</th>\n",
       "      <th>B</th>\n",
       "      <th>C</th>\n",
       "    </tr>\n",
       "  </thead>\n",
       "  <tbody>\n",
       "    <tr>\n",
       "      <th>0</th>\n",
       "      <td>1.0</td>\n",
       "      <td>4.0</td>\n",
       "      <td>x</td>\n",
       "    </tr>\n",
       "    <tr>\n",
       "      <th>1</th>\n",
       "      <td>2.0</td>\n",
       "      <td>2.0</td>\n",
       "      <td>y</td>\n",
       "    </tr>\n",
       "    <tr>\n",
       "      <th>2</th>\n",
       "      <td>4.0</td>\n",
       "      <td>3.0</td>\n",
       "      <td>4</td>\n",
       "    </tr>\n",
       "    <tr>\n",
       "      <th>3</th>\n",
       "      <td>4.0</td>\n",
       "      <td>4.0</td>\n",
       "      <td>w</td>\n",
       "    </tr>\n",
       "    <tr>\n",
       "      <th>4</th>\n",
       "      <td>5.0</td>\n",
       "      <td>4.0</td>\n",
       "      <td>z</td>\n",
       "    </tr>\n",
       "    <tr>\n",
       "      <th>5</th>\n",
       "      <td>4.0</td>\n",
       "      <td>55.0</td>\n",
       "      <td>4</td>\n",
       "    </tr>\n",
       "  </tbody>\n",
       "</table>\n",
       "</div>"
      ],
      "text/plain": [
       "     A     B  C\n",
       "0  1.0   4.0  x\n",
       "1  2.0   2.0  y\n",
       "2  4.0   3.0  4\n",
       "3  4.0   4.0  w\n",
       "4  5.0   4.0  z\n",
       "5  4.0  55.0  4"
      ]
     },
     "execution_count": 11,
     "metadata": {},
     "output_type": "execute_result"
    }
   ],
   "source": [
    "df_na.fillna(4)"
   ]
  },
  {
   "cell_type": "code",
   "execution_count": 16,
   "id": "5d3a93ef-860a-4f49-94d4-78736f260c7b",
   "metadata": {},
   "outputs": [],
   "source": [
    "df_na[\"A\"] = df_na[\"A\"].fillna(df_na[\"A\"].mean())"
   ]
  },
  {
   "cell_type": "code",
   "execution_count": 17,
   "id": "b02c34f7-9696-42a1-a1ec-bf32ebdc5fcb",
   "metadata": {},
   "outputs": [
    {
     "data": {
      "text/html": [
       "<div>\n",
       "<style scoped>\n",
       "    .dataframe tbody tr th:only-of-type {\n",
       "        vertical-align: middle;\n",
       "    }\n",
       "\n",
       "    .dataframe tbody tr th {\n",
       "        vertical-align: top;\n",
       "    }\n",
       "\n",
       "    .dataframe thead th {\n",
       "        text-align: right;\n",
       "    }\n",
       "</style>\n",
       "<table border=\"1\" class=\"dataframe\">\n",
       "  <thead>\n",
       "    <tr style=\"text-align: right;\">\n",
       "      <th></th>\n",
       "      <th>A</th>\n",
       "      <th>B</th>\n",
       "      <th>C</th>\n",
       "    </tr>\n",
       "  </thead>\n",
       "  <tbody>\n",
       "    <tr>\n",
       "      <th>0</th>\n",
       "      <td>1.0</td>\n",
       "      <td>NaN</td>\n",
       "      <td>x</td>\n",
       "    </tr>\n",
       "    <tr>\n",
       "      <th>1</th>\n",
       "      <td>2.0</td>\n",
       "      <td>2.0</td>\n",
       "      <td>y</td>\n",
       "    </tr>\n",
       "    <tr>\n",
       "      <th>2</th>\n",
       "      <td>3.0</td>\n",
       "      <td>3.0</td>\n",
       "      <td>None</td>\n",
       "    </tr>\n",
       "    <tr>\n",
       "      <th>3</th>\n",
       "      <td>4.0</td>\n",
       "      <td>4.0</td>\n",
       "      <td>w</td>\n",
       "    </tr>\n",
       "    <tr>\n",
       "      <th>4</th>\n",
       "      <td>5.0</td>\n",
       "      <td>NaN</td>\n",
       "      <td>z</td>\n",
       "    </tr>\n",
       "    <tr>\n",
       "      <th>5</th>\n",
       "      <td>3.0</td>\n",
       "      <td>55.0</td>\n",
       "      <td>None</td>\n",
       "    </tr>\n",
       "  </tbody>\n",
       "</table>\n",
       "</div>"
      ],
      "text/plain": [
       "     A     B     C\n",
       "0  1.0   NaN     x\n",
       "1  2.0   2.0     y\n",
       "2  3.0   3.0  None\n",
       "3  4.0   4.0     w\n",
       "4  5.0   NaN     z\n",
       "5  3.0  55.0  None"
      ]
     },
     "execution_count": 17,
     "metadata": {},
     "output_type": "execute_result"
    }
   ],
   "source": [
    "df_na"
   ]
  },
  {
   "cell_type": "code",
   "execution_count": 18,
   "id": "e116af5c-801a-4d54-80ae-f18f203a9000",
   "metadata": {},
   "outputs": [],
   "source": [
    "df_types = pd.DataFrame({\n",
    "    'integers': ['1', '2', '3', '4'],\n",
    "    'floats': ['1.1', '2.2', '3.3', '4.4'],\n",
    "    'dates': ['2023-01-01', '2023-01-02', '2023-01-03', '2023-01-04'],\n",
    "    'categories': ['A', 'B', 'A', 'C']\n",
    "})"
   ]
  },
  {
   "cell_type": "code",
   "execution_count": 20,
   "id": "2d42d408-9a43-405e-a993-fcefebed720f",
   "metadata": {},
   "outputs": [
    {
     "data": {
      "text/plain": [
       "integers      object\n",
       "floats        object\n",
       "dates         object\n",
       "categories    object\n",
       "dtype: object"
      ]
     },
     "execution_count": 20,
     "metadata": {},
     "output_type": "execute_result"
    }
   ],
   "source": [
    "df_types.dtypes"
   ]
  },
  {
   "cell_type": "code",
   "execution_count": 21,
   "id": "5b121e50-1624-48c5-b14f-fd1aa613e7e9",
   "metadata": {},
   "outputs": [
    {
     "data": {
      "text/html": [
       "<div>\n",
       "<style scoped>\n",
       "    .dataframe tbody tr th:only-of-type {\n",
       "        vertical-align: middle;\n",
       "    }\n",
       "\n",
       "    .dataframe tbody tr th {\n",
       "        vertical-align: top;\n",
       "    }\n",
       "\n",
       "    .dataframe thead th {\n",
       "        text-align: right;\n",
       "    }\n",
       "</style>\n",
       "<table border=\"1\" class=\"dataframe\">\n",
       "  <thead>\n",
       "    <tr style=\"text-align: right;\">\n",
       "      <th></th>\n",
       "      <th>integers</th>\n",
       "      <th>floats</th>\n",
       "      <th>dates</th>\n",
       "      <th>categories</th>\n",
       "    </tr>\n",
       "  </thead>\n",
       "  <tbody>\n",
       "    <tr>\n",
       "      <th>0</th>\n",
       "      <td>1</td>\n",
       "      <td>1.1</td>\n",
       "      <td>2023-01-01</td>\n",
       "      <td>A</td>\n",
       "    </tr>\n",
       "    <tr>\n",
       "      <th>1</th>\n",
       "      <td>2</td>\n",
       "      <td>2.2</td>\n",
       "      <td>2023-01-02</td>\n",
       "      <td>B</td>\n",
       "    </tr>\n",
       "    <tr>\n",
       "      <th>2</th>\n",
       "      <td>3</td>\n",
       "      <td>3.3</td>\n",
       "      <td>2023-01-03</td>\n",
       "      <td>A</td>\n",
       "    </tr>\n",
       "    <tr>\n",
       "      <th>3</th>\n",
       "      <td>4</td>\n",
       "      <td>4.4</td>\n",
       "      <td>2023-01-04</td>\n",
       "      <td>C</td>\n",
       "    </tr>\n",
       "  </tbody>\n",
       "</table>\n",
       "</div>"
      ],
      "text/plain": [
       "  integers floats       dates categories\n",
       "0        1    1.1  2023-01-01          A\n",
       "1        2    2.2  2023-01-02          B\n",
       "2        3    3.3  2023-01-03          A\n",
       "3        4    4.4  2023-01-04          C"
      ]
     },
     "execution_count": 21,
     "metadata": {},
     "output_type": "execute_result"
    }
   ],
   "source": [
    "df_types"
   ]
  },
  {
   "cell_type": "code",
   "execution_count": 26,
   "id": "6ba857bc-ca6d-4762-96c8-094bcf2b8c9a",
   "metadata": {},
   "outputs": [],
   "source": [
    "df_types[\"integers\"]=df_types[\"integers\"].astype(\"int\")"
   ]
  },
  {
   "cell_type": "code",
   "execution_count": 31,
   "id": "1297c8d9-59dd-42d5-8f0c-02912a636034",
   "metadata": {},
   "outputs": [
    {
     "data": {
      "text/plain": [
       "integers               int32\n",
       "floats               float64\n",
       "dates         datetime64[ns]\n",
       "categories            object\n",
       "dtype: object"
      ]
     },
     "execution_count": 31,
     "metadata": {},
     "output_type": "execute_result"
    }
   ],
   "source": [
    "df_types.dtypes"
   ]
  },
  {
   "cell_type": "code",
   "execution_count": 28,
   "id": "9c001db6-68a5-44ef-a81e-a36098e75f7b",
   "metadata": {},
   "outputs": [],
   "source": [
    "df_types[\"floats\"]=df_types[\"floats\"].astype(\"float\")"
   ]
  },
  {
   "cell_type": "code",
   "execution_count": 30,
   "id": "685c285b-61e7-4a26-bdb6-ef9220d1ee05",
   "metadata": {},
   "outputs": [],
   "source": [
    "df_types[\"dates\"]=pd.to_datetime(df_types[\"dates\"])"
   ]
  },
  {
   "cell_type": "code",
   "execution_count": 32,
   "id": "74c710d0-76c2-4a93-8c1b-b1deb821630f",
   "metadata": {},
   "outputs": [
    {
     "name": "stdout",
     "output_type": "stream",
     "text": [
      "     col  col_numeric\n",
      "0      1          1.0\n",
      "1      2          2.0\n",
      "2  three          NaN\n",
      "3      4          4.0\n"
     ]
    }
   ],
   "source": [
    "df_mixed = pd.DataFrame({'col': ['1', '2', 'three', '4']})\n",
    "df_mixed['col_numeric'] = pd.to_numeric(df_mixed['col'], errors='coerce')  # NaN for non-numeric\n",
    "print(df_mixed)"
   ]
  },
  {
   "cell_type": "code",
   "execution_count": 33,
   "id": "f65a451f-ebc1-405e-8f6a-230cb37b561c",
   "metadata": {},
   "outputs": [
    {
     "name": "stdout",
     "output_type": "stream",
     "text": [
      "0      alice  \n",
      "1          bob\n",
      "2      charlie\n",
      "3        diana\n",
      "Name: names, dtype: object\n",
      "0      ALICE  \n",
      "1          BOB\n",
      "2      CHARLIE\n",
      "3        DIANA\n",
      "Name: names, dtype: object\n",
      "0      Alice  \n",
      "1          Bob\n",
      "2      Charlie\n",
      "3        Diana\n",
      "Name: names, dtype: object\n",
      "0      Alice\n",
      "1        BOB\n",
      "2    charlie\n",
      "3      DIANA\n",
      "Name: names, dtype: object\n",
      "0    9\n",
      "1    3\n",
      "2    7\n",
      "3    5\n",
      "Name: names, dtype: int64\n"
     ]
    }
   ],
   "source": [
    "df_str = pd.DataFrame({\n",
    "    'names': ['  Alice  ', 'BOB', 'charlie', 'DIANA'],\n",
    "    'emails': ['alice@email.com', 'bob@COMPANY.COM', 'charlie@email.com', 'diana@company.com']\n",
    "})\n",
    "\n",
    "# String methods (vectorized operations)\n",
    "print(df_str['names'].str.lower())       # Convert to lowercase\n",
    "print(df_str['names'].str.upper())       # Convert to uppercase\n",
    "print(df_str['names'].str.title())       # Title case\n",
    "print(df_str['names'].str.strip())       # Remove leading/trailing whitespace\n",
    "print(df_str['names'].str.len())         # Length of strings"
   ]
  },
  {
   "cell_type": "code",
   "execution_count": 34,
   "id": "bef5618f-8182-4121-94f7-26078f333edd",
   "metadata": {},
   "outputs": [
    {
     "data": {
      "text/html": [
       "<div>\n",
       "<style scoped>\n",
       "    .dataframe tbody tr th:only-of-type {\n",
       "        vertical-align: middle;\n",
       "    }\n",
       "\n",
       "    .dataframe tbody tr th {\n",
       "        vertical-align: top;\n",
       "    }\n",
       "\n",
       "    .dataframe thead th {\n",
       "        text-align: right;\n",
       "    }\n",
       "</style>\n",
       "<table border=\"1\" class=\"dataframe\">\n",
       "  <thead>\n",
       "    <tr style=\"text-align: right;\">\n",
       "      <th></th>\n",
       "      <th>names</th>\n",
       "      <th>emails</th>\n",
       "    </tr>\n",
       "  </thead>\n",
       "  <tbody>\n",
       "    <tr>\n",
       "      <th>0</th>\n",
       "      <td>Alice</td>\n",
       "      <td>alice@email.com</td>\n",
       "    </tr>\n",
       "    <tr>\n",
       "      <th>1</th>\n",
       "      <td>BOB</td>\n",
       "      <td>bob@COMPANY.COM</td>\n",
       "    </tr>\n",
       "    <tr>\n",
       "      <th>2</th>\n",
       "      <td>charlie</td>\n",
       "      <td>charlie@email.com</td>\n",
       "    </tr>\n",
       "    <tr>\n",
       "      <th>3</th>\n",
       "      <td>DIANA</td>\n",
       "      <td>diana@company.com</td>\n",
       "    </tr>\n",
       "  </tbody>\n",
       "</table>\n",
       "</div>"
      ],
      "text/plain": [
       "       names             emails\n",
       "0    Alice      alice@email.com\n",
       "1        BOB    bob@COMPANY.COM\n",
       "2    charlie  charlie@email.com\n",
       "3      DIANA  diana@company.com"
      ]
     },
     "execution_count": 34,
     "metadata": {},
     "output_type": "execute_result"
    }
   ],
   "source": [
    "df_str"
   ]
  },
  {
   "cell_type": "code",
   "execution_count": 35,
   "id": "b41e6f69-4844-4229-adc4-e934d5bad3f3",
   "metadata": {},
   "outputs": [
    {
     "name": "stdout",
     "output_type": "stream",
     "text": [
      "0    __Alice__\n",
      "1          BOB\n",
      "2      charlie\n",
      "3        DIANA\n",
      "Name: names, dtype: object\n"
     ]
    }
   ],
   "source": [
    "# String manipulation\n",
    "print(df_str['names'].str.replace(' ', '_'))   # Replace characters"
   ]
  },
  {
   "cell_type": "code",
   "execution_count": 36,
   "id": "4ebe86e7-91d9-427c-b356-db47055a2b0a",
   "metadata": {},
   "outputs": [
    {
     "name": "stdout",
     "output_type": "stream",
     "text": [
      "0      [alice, email.com]\n",
      "1      [bob, COMPANY.COM]\n",
      "2    [charlie, email.com]\n",
      "3    [diana, company.com]\n",
      "Name: emails, dtype: object\n"
     ]
    }
   ],
   "source": [
    "print(df_str['emails'].str.split('@'))          # Split strings"
   ]
  },
  {
   "cell_type": "code",
   "execution_count": 37,
   "id": "57b8fdb8-2243-42da-a1bf-2860fd264b66",
   "metadata": {},
   "outputs": [
    {
     "name": "stdout",
     "output_type": "stream",
     "text": [
      "         0            1\n",
      "0    alice    email.com\n",
      "1      bob  COMPANY.COM\n",
      "2  charlie    email.com\n",
      "3    diana  company.com\n"
     ]
    }
   ],
   "source": [
    "print(df_str['emails'].str.split('@', expand=True))  # Split into columns"
   ]
  },
  {
   "cell_type": "code",
   "execution_count": 38,
   "id": "4c4f6548-3013-46db-836d-060fdf7bd852",
   "metadata": {},
   "outputs": [
    {
     "data": {
      "text/html": [
       "<div>\n",
       "<style scoped>\n",
       "    .dataframe tbody tr th:only-of-type {\n",
       "        vertical-align: middle;\n",
       "    }\n",
       "\n",
       "    .dataframe tbody tr th {\n",
       "        vertical-align: top;\n",
       "    }\n",
       "\n",
       "    .dataframe thead th {\n",
       "        text-align: right;\n",
       "    }\n",
       "</style>\n",
       "<table border=\"1\" class=\"dataframe\">\n",
       "  <thead>\n",
       "    <tr style=\"text-align: right;\">\n",
       "      <th></th>\n",
       "      <th>names</th>\n",
       "      <th>emails</th>\n",
       "    </tr>\n",
       "  </thead>\n",
       "  <tbody>\n",
       "    <tr>\n",
       "      <th>0</th>\n",
       "      <td>Alice</td>\n",
       "      <td>alice@email.com</td>\n",
       "    </tr>\n",
       "    <tr>\n",
       "      <th>1</th>\n",
       "      <td>BOB</td>\n",
       "      <td>bob@COMPANY.COM</td>\n",
       "    </tr>\n",
       "    <tr>\n",
       "      <th>2</th>\n",
       "      <td>charlie</td>\n",
       "      <td>charlie@email.com</td>\n",
       "    </tr>\n",
       "    <tr>\n",
       "      <th>3</th>\n",
       "      <td>DIANA</td>\n",
       "      <td>diana@company.com</td>\n",
       "    </tr>\n",
       "  </tbody>\n",
       "</table>\n",
       "</div>"
      ],
      "text/plain": [
       "       names             emails\n",
       "0    Alice      alice@email.com\n",
       "1        BOB    bob@COMPANY.COM\n",
       "2    charlie  charlie@email.com\n",
       "3      DIANA  diana@company.com"
      ]
     },
     "execution_count": 38,
     "metadata": {},
     "output_type": "execute_result"
    }
   ],
   "source": [
    "df_str"
   ]
  },
  {
   "cell_type": "code",
   "execution_count": 39,
   "id": "e503fa81-b5f7-4194-a3f0-529cb6e2db31",
   "metadata": {},
   "outputs": [],
   "source": [
    "df_dup = pd.DataFrame({\n",
    "    'A': [1, 2, 2, 3, 3, 3,4,5,6,7],\n",
    "    'B': ['x', 'y', 'y', 'z', 'z', 'w',\"a\",\"b\", \"c\", \"d\"],\n",
    "    'C': [10, 20, 20, 30, 30, 40, 40, 50, 30, 20]\n",
    "})\n"
   ]
  },
  {
   "cell_type": "code",
   "execution_count": 40,
   "id": "30e819a9-9495-4100-8cf9-711c700af03c",
   "metadata": {},
   "outputs": [
    {
     "data": {
      "text/html": [
       "<div>\n",
       "<style scoped>\n",
       "    .dataframe tbody tr th:only-of-type {\n",
       "        vertical-align: middle;\n",
       "    }\n",
       "\n",
       "    .dataframe tbody tr th {\n",
       "        vertical-align: top;\n",
       "    }\n",
       "\n",
       "    .dataframe thead th {\n",
       "        text-align: right;\n",
       "    }\n",
       "</style>\n",
       "<table border=\"1\" class=\"dataframe\">\n",
       "  <thead>\n",
       "    <tr style=\"text-align: right;\">\n",
       "      <th></th>\n",
       "      <th>A</th>\n",
       "      <th>B</th>\n",
       "      <th>C</th>\n",
       "    </tr>\n",
       "  </thead>\n",
       "  <tbody>\n",
       "    <tr>\n",
       "      <th>0</th>\n",
       "      <td>1</td>\n",
       "      <td>x</td>\n",
       "      <td>10</td>\n",
       "    </tr>\n",
       "    <tr>\n",
       "      <th>1</th>\n",
       "      <td>2</td>\n",
       "      <td>y</td>\n",
       "      <td>20</td>\n",
       "    </tr>\n",
       "    <tr>\n",
       "      <th>2</th>\n",
       "      <td>2</td>\n",
       "      <td>y</td>\n",
       "      <td>20</td>\n",
       "    </tr>\n",
       "    <tr>\n",
       "      <th>3</th>\n",
       "      <td>3</td>\n",
       "      <td>z</td>\n",
       "      <td>30</td>\n",
       "    </tr>\n",
       "    <tr>\n",
       "      <th>4</th>\n",
       "      <td>3</td>\n",
       "      <td>z</td>\n",
       "      <td>30</td>\n",
       "    </tr>\n",
       "    <tr>\n",
       "      <th>5</th>\n",
       "      <td>3</td>\n",
       "      <td>w</td>\n",
       "      <td>40</td>\n",
       "    </tr>\n",
       "    <tr>\n",
       "      <th>6</th>\n",
       "      <td>4</td>\n",
       "      <td>a</td>\n",
       "      <td>40</td>\n",
       "    </tr>\n",
       "    <tr>\n",
       "      <th>7</th>\n",
       "      <td>5</td>\n",
       "      <td>b</td>\n",
       "      <td>50</td>\n",
       "    </tr>\n",
       "    <tr>\n",
       "      <th>8</th>\n",
       "      <td>6</td>\n",
       "      <td>c</td>\n",
       "      <td>30</td>\n",
       "    </tr>\n",
       "    <tr>\n",
       "      <th>9</th>\n",
       "      <td>7</td>\n",
       "      <td>d</td>\n",
       "      <td>20</td>\n",
       "    </tr>\n",
       "  </tbody>\n",
       "</table>\n",
       "</div>"
      ],
      "text/plain": [
       "   A  B   C\n",
       "0  1  x  10\n",
       "1  2  y  20\n",
       "2  2  y  20\n",
       "3  3  z  30\n",
       "4  3  z  30\n",
       "5  3  w  40\n",
       "6  4  a  40\n",
       "7  5  b  50\n",
       "8  6  c  30\n",
       "9  7  d  20"
      ]
     },
     "execution_count": 40,
     "metadata": {},
     "output_type": "execute_result"
    }
   ],
   "source": [
    "df_dup"
   ]
  },
  {
   "cell_type": "code",
   "execution_count": 42,
   "id": "6524898e-7ead-4b17-8520-eb1399d8b186",
   "metadata": {},
   "outputs": [
    {
     "data": {
      "text/plain": [
       "2"
      ]
     },
     "execution_count": 42,
     "metadata": {},
     "output_type": "execute_result"
    }
   ],
   "source": [
    "df_dup.duplicated().sum()"
   ]
  },
  {
   "cell_type": "code",
   "execution_count": 47,
   "id": "333458fa-ac86-4174-a8c7-525872f4f14a",
   "metadata": {},
   "outputs": [
    {
     "data": {
      "text/plain": [
       "5"
      ]
     },
     "execution_count": 47,
     "metadata": {},
     "output_type": "execute_result"
    }
   ],
   "source": [
    "df_dup[\"C\"].duplicated().sum()"
   ]
  },
  {
   "cell_type": "code",
   "execution_count": 51,
   "id": "531192a9-564d-48ca-9f5a-c08cffbed92f",
   "metadata": {},
   "outputs": [],
   "source": [
    "df_dup.drop_duplicates(inplace=True)"
   ]
  },
  {
   "cell_type": "code",
   "execution_count": 52,
   "id": "55ecd220-6aa9-4a01-b38a-c3cf410c00cf",
   "metadata": {},
   "outputs": [
    {
     "data": {
      "text/html": [
       "<div>\n",
       "<style scoped>\n",
       "    .dataframe tbody tr th:only-of-type {\n",
       "        vertical-align: middle;\n",
       "    }\n",
       "\n",
       "    .dataframe tbody tr th {\n",
       "        vertical-align: top;\n",
       "    }\n",
       "\n",
       "    .dataframe thead th {\n",
       "        text-align: right;\n",
       "    }\n",
       "</style>\n",
       "<table border=\"1\" class=\"dataframe\">\n",
       "  <thead>\n",
       "    <tr style=\"text-align: right;\">\n",
       "      <th></th>\n",
       "      <th>A</th>\n",
       "      <th>B</th>\n",
       "      <th>C</th>\n",
       "    </tr>\n",
       "  </thead>\n",
       "  <tbody>\n",
       "    <tr>\n",
       "      <th>0</th>\n",
       "      <td>1</td>\n",
       "      <td>x</td>\n",
       "      <td>10</td>\n",
       "    </tr>\n",
       "    <tr>\n",
       "      <th>1</th>\n",
       "      <td>2</td>\n",
       "      <td>y</td>\n",
       "      <td>20</td>\n",
       "    </tr>\n",
       "    <tr>\n",
       "      <th>3</th>\n",
       "      <td>3</td>\n",
       "      <td>z</td>\n",
       "      <td>30</td>\n",
       "    </tr>\n",
       "    <tr>\n",
       "      <th>5</th>\n",
       "      <td>3</td>\n",
       "      <td>w</td>\n",
       "      <td>40</td>\n",
       "    </tr>\n",
       "    <tr>\n",
       "      <th>6</th>\n",
       "      <td>4</td>\n",
       "      <td>a</td>\n",
       "      <td>40</td>\n",
       "    </tr>\n",
       "    <tr>\n",
       "      <th>7</th>\n",
       "      <td>5</td>\n",
       "      <td>b</td>\n",
       "      <td>50</td>\n",
       "    </tr>\n",
       "    <tr>\n",
       "      <th>8</th>\n",
       "      <td>6</td>\n",
       "      <td>c</td>\n",
       "      <td>30</td>\n",
       "    </tr>\n",
       "    <tr>\n",
       "      <th>9</th>\n",
       "      <td>7</td>\n",
       "      <td>d</td>\n",
       "      <td>20</td>\n",
       "    </tr>\n",
       "  </tbody>\n",
       "</table>\n",
       "</div>"
      ],
      "text/plain": [
       "   A  B   C\n",
       "0  1  x  10\n",
       "1  2  y  20\n",
       "3  3  z  30\n",
       "5  3  w  40\n",
       "6  4  a  40\n",
       "7  5  b  50\n",
       "8  6  c  30\n",
       "9  7  d  20"
      ]
     },
     "execution_count": 52,
     "metadata": {},
     "output_type": "execute_result"
    }
   ],
   "source": [
    "df_dup"
   ]
  },
  {
   "cell_type": "code",
   "execution_count": 53,
   "id": "c7c261e8-bcc6-428a-90a1-f66da34a1f49",
   "metadata": {},
   "outputs": [],
   "source": [
    "df = pd.DataFrame({\n",
    "    'Name': ['Alice', 'Bob', 'Charlie', \"mohit\", \"suresh\"],\n",
    "    'Age': [25, 30, 35, 20, 28],\n",
    "    'Salary': [70000, 80000, 90000, 40000, 78000]\n",
    "})"
   ]
  },
  {
   "cell_type": "code",
   "execution_count": 54,
   "id": "74e2e7a8-2612-49b9-b4b5-a593d253b532",
   "metadata": {},
   "outputs": [
    {
     "data": {
      "text/html": [
       "<div>\n",
       "<style scoped>\n",
       "    .dataframe tbody tr th:only-of-type {\n",
       "        vertical-align: middle;\n",
       "    }\n",
       "\n",
       "    .dataframe tbody tr th {\n",
       "        vertical-align: top;\n",
       "    }\n",
       "\n",
       "    .dataframe thead th {\n",
       "        text-align: right;\n",
       "    }\n",
       "</style>\n",
       "<table border=\"1\" class=\"dataframe\">\n",
       "  <thead>\n",
       "    <tr style=\"text-align: right;\">\n",
       "      <th></th>\n",
       "      <th>Name</th>\n",
       "      <th>Age</th>\n",
       "      <th>Salary</th>\n",
       "    </tr>\n",
       "  </thead>\n",
       "  <tbody>\n",
       "    <tr>\n",
       "      <th>0</th>\n",
       "      <td>Alice</td>\n",
       "      <td>25</td>\n",
       "      <td>70000</td>\n",
       "    </tr>\n",
       "    <tr>\n",
       "      <th>1</th>\n",
       "      <td>Bob</td>\n",
       "      <td>30</td>\n",
       "      <td>80000</td>\n",
       "    </tr>\n",
       "    <tr>\n",
       "      <th>2</th>\n",
       "      <td>Charlie</td>\n",
       "      <td>35</td>\n",
       "      <td>90000</td>\n",
       "    </tr>\n",
       "    <tr>\n",
       "      <th>3</th>\n",
       "      <td>mohit</td>\n",
       "      <td>20</td>\n",
       "      <td>40000</td>\n",
       "    </tr>\n",
       "    <tr>\n",
       "      <th>4</th>\n",
       "      <td>suresh</td>\n",
       "      <td>28</td>\n",
       "      <td>78000</td>\n",
       "    </tr>\n",
       "  </tbody>\n",
       "</table>\n",
       "</div>"
      ],
      "text/plain": [
       "      Name  Age  Salary\n",
       "0    Alice   25   70000\n",
       "1      Bob   30   80000\n",
       "2  Charlie   35   90000\n",
       "3    mohit   20   40000\n",
       "4   suresh   28   78000"
      ]
     },
     "execution_count": 54,
     "metadata": {},
     "output_type": "execute_result"
    }
   ],
   "source": [
    "df"
   ]
  },
  {
   "cell_type": "code",
   "execution_count": 55,
   "id": "202891eb-c59d-4240-936e-9d859a7dcfb9",
   "metadata": {},
   "outputs": [],
   "source": [
    "df[\"Name_upper\"] = df[\"Name\"].str.upper()"
   ]
  },
  {
   "cell_type": "code",
   "execution_count": 56,
   "id": "950efc32-c46f-42f3-b088-8981298fdbfc",
   "metadata": {},
   "outputs": [
    {
     "data": {
      "text/html": [
       "<div>\n",
       "<style scoped>\n",
       "    .dataframe tbody tr th:only-of-type {\n",
       "        vertical-align: middle;\n",
       "    }\n",
       "\n",
       "    .dataframe tbody tr th {\n",
       "        vertical-align: top;\n",
       "    }\n",
       "\n",
       "    .dataframe thead th {\n",
       "        text-align: right;\n",
       "    }\n",
       "</style>\n",
       "<table border=\"1\" class=\"dataframe\">\n",
       "  <thead>\n",
       "    <tr style=\"text-align: right;\">\n",
       "      <th></th>\n",
       "      <th>Name</th>\n",
       "      <th>Age</th>\n",
       "      <th>Salary</th>\n",
       "      <th>Name_upper</th>\n",
       "    </tr>\n",
       "  </thead>\n",
       "  <tbody>\n",
       "    <tr>\n",
       "      <th>0</th>\n",
       "      <td>Alice</td>\n",
       "      <td>25</td>\n",
       "      <td>70000</td>\n",
       "      <td>ALICE</td>\n",
       "    </tr>\n",
       "    <tr>\n",
       "      <th>1</th>\n",
       "      <td>Bob</td>\n",
       "      <td>30</td>\n",
       "      <td>80000</td>\n",
       "      <td>BOB</td>\n",
       "    </tr>\n",
       "    <tr>\n",
       "      <th>2</th>\n",
       "      <td>Charlie</td>\n",
       "      <td>35</td>\n",
       "      <td>90000</td>\n",
       "      <td>CHARLIE</td>\n",
       "    </tr>\n",
       "    <tr>\n",
       "      <th>3</th>\n",
       "      <td>mohit</td>\n",
       "      <td>20</td>\n",
       "      <td>40000</td>\n",
       "      <td>MOHIT</td>\n",
       "    </tr>\n",
       "    <tr>\n",
       "      <th>4</th>\n",
       "      <td>suresh</td>\n",
       "      <td>28</td>\n",
       "      <td>78000</td>\n",
       "      <td>SURESH</td>\n",
       "    </tr>\n",
       "  </tbody>\n",
       "</table>\n",
       "</div>"
      ],
      "text/plain": [
       "      Name  Age  Salary Name_upper\n",
       "0    Alice   25   70000      ALICE\n",
       "1      Bob   30   80000        BOB\n",
       "2  Charlie   35   90000    CHARLIE\n",
       "3    mohit   20   40000      MOHIT\n",
       "4   suresh   28   78000     SURESH"
      ]
     },
     "execution_count": 56,
     "metadata": {},
     "output_type": "execute_result"
    }
   ],
   "source": [
    "df"
   ]
  },
  {
   "cell_type": "code",
   "execution_count": 57,
   "id": "c38bed2d-0c50-4a09-8d01-bce7d6698118",
   "metadata": {},
   "outputs": [],
   "source": [
    "df['Bonus'] = df['Salary'] * 0.1           # Calculated column"
   ]
  },
  {
   "cell_type": "code",
   "execution_count": 58,
   "id": "bd711f52-4d51-4872-b480-d46be59bd3d2",
   "metadata": {},
   "outputs": [
    {
     "data": {
      "text/html": [
       "<div>\n",
       "<style scoped>\n",
       "    .dataframe tbody tr th:only-of-type {\n",
       "        vertical-align: middle;\n",
       "    }\n",
       "\n",
       "    .dataframe tbody tr th {\n",
       "        vertical-align: top;\n",
       "    }\n",
       "\n",
       "    .dataframe thead th {\n",
       "        text-align: right;\n",
       "    }\n",
       "</style>\n",
       "<table border=\"1\" class=\"dataframe\">\n",
       "  <thead>\n",
       "    <tr style=\"text-align: right;\">\n",
       "      <th></th>\n",
       "      <th>Name</th>\n",
       "      <th>Age</th>\n",
       "      <th>Salary</th>\n",
       "      <th>Name_upper</th>\n",
       "      <th>Bonus</th>\n",
       "    </tr>\n",
       "  </thead>\n",
       "  <tbody>\n",
       "    <tr>\n",
       "      <th>0</th>\n",
       "      <td>Alice</td>\n",
       "      <td>25</td>\n",
       "      <td>70000</td>\n",
       "      <td>ALICE</td>\n",
       "      <td>7000.0</td>\n",
       "    </tr>\n",
       "    <tr>\n",
       "      <th>1</th>\n",
       "      <td>Bob</td>\n",
       "      <td>30</td>\n",
       "      <td>80000</td>\n",
       "      <td>BOB</td>\n",
       "      <td>8000.0</td>\n",
       "    </tr>\n",
       "    <tr>\n",
       "      <th>2</th>\n",
       "      <td>Charlie</td>\n",
       "      <td>35</td>\n",
       "      <td>90000</td>\n",
       "      <td>CHARLIE</td>\n",
       "      <td>9000.0</td>\n",
       "    </tr>\n",
       "    <tr>\n",
       "      <th>3</th>\n",
       "      <td>mohit</td>\n",
       "      <td>20</td>\n",
       "      <td>40000</td>\n",
       "      <td>MOHIT</td>\n",
       "      <td>4000.0</td>\n",
       "    </tr>\n",
       "    <tr>\n",
       "      <th>4</th>\n",
       "      <td>suresh</td>\n",
       "      <td>28</td>\n",
       "      <td>78000</td>\n",
       "      <td>SURESH</td>\n",
       "      <td>7800.0</td>\n",
       "    </tr>\n",
       "  </tbody>\n",
       "</table>\n",
       "</div>"
      ],
      "text/plain": [
       "      Name  Age  Salary Name_upper   Bonus\n",
       "0    Alice   25   70000      ALICE  7000.0\n",
       "1      Bob   30   80000        BOB  8000.0\n",
       "2  Charlie   35   90000    CHARLIE  9000.0\n",
       "3    mohit   20   40000      MOHIT  4000.0\n",
       "4   suresh   28   78000     SURESH  7800.0"
      ]
     },
     "execution_count": 58,
     "metadata": {},
     "output_type": "execute_result"
    }
   ],
   "source": [
    "df"
   ]
  },
  {
   "cell_type": "code",
   "execution_count": 59,
   "id": "9ee2704a-89ba-41f1-8bff-96b15781bd38",
   "metadata": {},
   "outputs": [],
   "source": [
    "df['Department'] = 'IT'         "
   ]
  },
  {
   "cell_type": "code",
   "execution_count": 60,
   "id": "854f7416-004c-428b-b209-56c84505d8be",
   "metadata": {},
   "outputs": [
    {
     "data": {
      "text/html": [
       "<div>\n",
       "<style scoped>\n",
       "    .dataframe tbody tr th:only-of-type {\n",
       "        vertical-align: middle;\n",
       "    }\n",
       "\n",
       "    .dataframe tbody tr th {\n",
       "        vertical-align: top;\n",
       "    }\n",
       "\n",
       "    .dataframe thead th {\n",
       "        text-align: right;\n",
       "    }\n",
       "</style>\n",
       "<table border=\"1\" class=\"dataframe\">\n",
       "  <thead>\n",
       "    <tr style=\"text-align: right;\">\n",
       "      <th></th>\n",
       "      <th>Name</th>\n",
       "      <th>Age</th>\n",
       "      <th>Salary</th>\n",
       "      <th>Name_upper</th>\n",
       "      <th>Bonus</th>\n",
       "      <th>Department</th>\n",
       "    </tr>\n",
       "  </thead>\n",
       "  <tbody>\n",
       "    <tr>\n",
       "      <th>0</th>\n",
       "      <td>Alice</td>\n",
       "      <td>25</td>\n",
       "      <td>70000</td>\n",
       "      <td>ALICE</td>\n",
       "      <td>7000.0</td>\n",
       "      <td>IT</td>\n",
       "    </tr>\n",
       "    <tr>\n",
       "      <th>1</th>\n",
       "      <td>Bob</td>\n",
       "      <td>30</td>\n",
       "      <td>80000</td>\n",
       "      <td>BOB</td>\n",
       "      <td>8000.0</td>\n",
       "      <td>IT</td>\n",
       "    </tr>\n",
       "    <tr>\n",
       "      <th>2</th>\n",
       "      <td>Charlie</td>\n",
       "      <td>35</td>\n",
       "      <td>90000</td>\n",
       "      <td>CHARLIE</td>\n",
       "      <td>9000.0</td>\n",
       "      <td>IT</td>\n",
       "    </tr>\n",
       "    <tr>\n",
       "      <th>3</th>\n",
       "      <td>mohit</td>\n",
       "      <td>20</td>\n",
       "      <td>40000</td>\n",
       "      <td>MOHIT</td>\n",
       "      <td>4000.0</td>\n",
       "      <td>IT</td>\n",
       "    </tr>\n",
       "    <tr>\n",
       "      <th>4</th>\n",
       "      <td>suresh</td>\n",
       "      <td>28</td>\n",
       "      <td>78000</td>\n",
       "      <td>SURESH</td>\n",
       "      <td>7800.0</td>\n",
       "      <td>IT</td>\n",
       "    </tr>\n",
       "  </tbody>\n",
       "</table>\n",
       "</div>"
      ],
      "text/plain": [
       "      Name  Age  Salary Name_upper   Bonus Department\n",
       "0    Alice   25   70000      ALICE  7000.0         IT\n",
       "1      Bob   30   80000        BOB  8000.0         IT\n",
       "2  Charlie   35   90000    CHARLIE  9000.0         IT\n",
       "3    mohit   20   40000      MOHIT  4000.0         IT\n",
       "4   suresh   28   78000     SURESH  7800.0         IT"
      ]
     },
     "execution_count": 60,
     "metadata": {},
     "output_type": "execute_result"
    }
   ],
   "source": [
    "df"
   ]
  },
  {
   "cell_type": "code",
   "execution_count": 61,
   "id": "cd6cdd8b-1819-4211-a758-0cde886698ab",
   "metadata": {},
   "outputs": [],
   "source": [
    "df['Full_Info'] = df['Name'] + ' (' + df['Age'].astype(str) + ')'  # String concatenation\n"
   ]
  },
  {
   "cell_type": "code",
   "execution_count": 62,
   "id": "485ea860-be42-419d-8263-3f7624b7568f",
   "metadata": {},
   "outputs": [
    {
     "data": {
      "text/html": [
       "<div>\n",
       "<style scoped>\n",
       "    .dataframe tbody tr th:only-of-type {\n",
       "        vertical-align: middle;\n",
       "    }\n",
       "\n",
       "    .dataframe tbody tr th {\n",
       "        vertical-align: top;\n",
       "    }\n",
       "\n",
       "    .dataframe thead th {\n",
       "        text-align: right;\n",
       "    }\n",
       "</style>\n",
       "<table border=\"1\" class=\"dataframe\">\n",
       "  <thead>\n",
       "    <tr style=\"text-align: right;\">\n",
       "      <th></th>\n",
       "      <th>Name</th>\n",
       "      <th>Age</th>\n",
       "      <th>Salary</th>\n",
       "      <th>Name_upper</th>\n",
       "      <th>Bonus</th>\n",
       "      <th>Department</th>\n",
       "      <th>Full_Info</th>\n",
       "    </tr>\n",
       "  </thead>\n",
       "  <tbody>\n",
       "    <tr>\n",
       "      <th>0</th>\n",
       "      <td>Alice</td>\n",
       "      <td>25</td>\n",
       "      <td>70000</td>\n",
       "      <td>ALICE</td>\n",
       "      <td>7000.0</td>\n",
       "      <td>IT</td>\n",
       "      <td>Alice (25)</td>\n",
       "    </tr>\n",
       "    <tr>\n",
       "      <th>1</th>\n",
       "      <td>Bob</td>\n",
       "      <td>30</td>\n",
       "      <td>80000</td>\n",
       "      <td>BOB</td>\n",
       "      <td>8000.0</td>\n",
       "      <td>IT</td>\n",
       "      <td>Bob (30)</td>\n",
       "    </tr>\n",
       "    <tr>\n",
       "      <th>2</th>\n",
       "      <td>Charlie</td>\n",
       "      <td>35</td>\n",
       "      <td>90000</td>\n",
       "      <td>CHARLIE</td>\n",
       "      <td>9000.0</td>\n",
       "      <td>IT</td>\n",
       "      <td>Charlie (35)</td>\n",
       "    </tr>\n",
       "    <tr>\n",
       "      <th>3</th>\n",
       "      <td>mohit</td>\n",
       "      <td>20</td>\n",
       "      <td>40000</td>\n",
       "      <td>MOHIT</td>\n",
       "      <td>4000.0</td>\n",
       "      <td>IT</td>\n",
       "      <td>mohit (20)</td>\n",
       "    </tr>\n",
       "    <tr>\n",
       "      <th>4</th>\n",
       "      <td>suresh</td>\n",
       "      <td>28</td>\n",
       "      <td>78000</td>\n",
       "      <td>SURESH</td>\n",
       "      <td>7800.0</td>\n",
       "      <td>IT</td>\n",
       "      <td>suresh (28)</td>\n",
       "    </tr>\n",
       "  </tbody>\n",
       "</table>\n",
       "</div>"
      ],
      "text/plain": [
       "      Name  Age  Salary Name_upper   Bonus Department     Full_Info\n",
       "0    Alice   25   70000      ALICE  7000.0         IT    Alice (25)\n",
       "1      Bob   30   80000        BOB  8000.0         IT      Bob (30)\n",
       "2  Charlie   35   90000    CHARLIE  9000.0         IT  Charlie (35)\n",
       "3    mohit   20   40000      MOHIT  4000.0         IT    mohit (20)\n",
       "4   suresh   28   78000     SURESH  7800.0         IT   suresh (28)"
      ]
     },
     "execution_count": 62,
     "metadata": {},
     "output_type": "execute_result"
    }
   ],
   "source": [
    "df"
   ]
  },
  {
   "cell_type": "code",
   "execution_count": 63,
   "id": "15b863b6-4444-42d3-8b17-6e3606640de1",
   "metadata": {},
   "outputs": [],
   "source": [
    "# Add multiple columns using assign\n",
    "df = df.assign( Tax = df['Salary'] * 0.3, Net_Salary = lambda x: x['Salary'] - x['Tax'])"
   ]
  },
  {
   "cell_type": "code",
   "execution_count": 64,
   "id": "8c99b351-a7a3-44b1-8237-d769bfdebd48",
   "metadata": {},
   "outputs": [
    {
     "data": {
      "text/html": [
       "<div>\n",
       "<style scoped>\n",
       "    .dataframe tbody tr th:only-of-type {\n",
       "        vertical-align: middle;\n",
       "    }\n",
       "\n",
       "    .dataframe tbody tr th {\n",
       "        vertical-align: top;\n",
       "    }\n",
       "\n",
       "    .dataframe thead th {\n",
       "        text-align: right;\n",
       "    }\n",
       "</style>\n",
       "<table border=\"1\" class=\"dataframe\">\n",
       "  <thead>\n",
       "    <tr style=\"text-align: right;\">\n",
       "      <th></th>\n",
       "      <th>Name</th>\n",
       "      <th>Age</th>\n",
       "      <th>Salary</th>\n",
       "      <th>Name_upper</th>\n",
       "      <th>Bonus</th>\n",
       "      <th>Department</th>\n",
       "      <th>Full_Info</th>\n",
       "      <th>Tax</th>\n",
       "      <th>Net_Salary</th>\n",
       "    </tr>\n",
       "  </thead>\n",
       "  <tbody>\n",
       "    <tr>\n",
       "      <th>0</th>\n",
       "      <td>Alice</td>\n",
       "      <td>25</td>\n",
       "      <td>70000</td>\n",
       "      <td>ALICE</td>\n",
       "      <td>7000.0</td>\n",
       "      <td>IT</td>\n",
       "      <td>Alice (25)</td>\n",
       "      <td>21000.0</td>\n",
       "      <td>49000.0</td>\n",
       "    </tr>\n",
       "    <tr>\n",
       "      <th>1</th>\n",
       "      <td>Bob</td>\n",
       "      <td>30</td>\n",
       "      <td>80000</td>\n",
       "      <td>BOB</td>\n",
       "      <td>8000.0</td>\n",
       "      <td>IT</td>\n",
       "      <td>Bob (30)</td>\n",
       "      <td>24000.0</td>\n",
       "      <td>56000.0</td>\n",
       "    </tr>\n",
       "    <tr>\n",
       "      <th>2</th>\n",
       "      <td>Charlie</td>\n",
       "      <td>35</td>\n",
       "      <td>90000</td>\n",
       "      <td>CHARLIE</td>\n",
       "      <td>9000.0</td>\n",
       "      <td>IT</td>\n",
       "      <td>Charlie (35)</td>\n",
       "      <td>27000.0</td>\n",
       "      <td>63000.0</td>\n",
       "    </tr>\n",
       "    <tr>\n",
       "      <th>3</th>\n",
       "      <td>mohit</td>\n",
       "      <td>20</td>\n",
       "      <td>40000</td>\n",
       "      <td>MOHIT</td>\n",
       "      <td>4000.0</td>\n",
       "      <td>IT</td>\n",
       "      <td>mohit (20)</td>\n",
       "      <td>12000.0</td>\n",
       "      <td>28000.0</td>\n",
       "    </tr>\n",
       "    <tr>\n",
       "      <th>4</th>\n",
       "      <td>suresh</td>\n",
       "      <td>28</td>\n",
       "      <td>78000</td>\n",
       "      <td>SURESH</td>\n",
       "      <td>7800.0</td>\n",
       "      <td>IT</td>\n",
       "      <td>suresh (28)</td>\n",
       "      <td>23400.0</td>\n",
       "      <td>54600.0</td>\n",
       "    </tr>\n",
       "  </tbody>\n",
       "</table>\n",
       "</div>"
      ],
      "text/plain": [
       "      Name  Age  Salary Name_upper   Bonus Department     Full_Info      Tax  \\\n",
       "0    Alice   25   70000      ALICE  7000.0         IT    Alice (25)  21000.0   \n",
       "1      Bob   30   80000        BOB  8000.0         IT      Bob (30)  24000.0   \n",
       "2  Charlie   35   90000    CHARLIE  9000.0         IT  Charlie (35)  27000.0   \n",
       "3    mohit   20   40000      MOHIT  4000.0         IT    mohit (20)  12000.0   \n",
       "4   suresh   28   78000     SURESH  7800.0         IT   suresh (28)  23400.0   \n",
       "\n",
       "   Net_Salary  \n",
       "0     49000.0  \n",
       "1     56000.0  \n",
       "2     63000.0  \n",
       "3     28000.0  \n",
       "4     54600.0  "
      ]
     },
     "execution_count": 64,
     "metadata": {},
     "output_type": "execute_result"
    }
   ],
   "source": [
    "df"
   ]
  },
  {
   "cell_type": "code",
   "execution_count": 65,
   "id": "d19aada8-1634-4d48-8c24-e07503353d1b",
   "metadata": {},
   "outputs": [],
   "source": [
    "# Insert column at specific position\n",
    "df.insert(1, 'Employee_ID', ['E001', 'E002', 'E003', \"E004\",\"E005\"])"
   ]
  },
  {
   "cell_type": "code",
   "execution_count": 66,
   "id": "7e346ea5-6b00-4a5d-9503-cde11e5ce9a0",
   "metadata": {},
   "outputs": [
    {
     "data": {
      "text/html": [
       "<div>\n",
       "<style scoped>\n",
       "    .dataframe tbody tr th:only-of-type {\n",
       "        vertical-align: middle;\n",
       "    }\n",
       "\n",
       "    .dataframe tbody tr th {\n",
       "        vertical-align: top;\n",
       "    }\n",
       "\n",
       "    .dataframe thead th {\n",
       "        text-align: right;\n",
       "    }\n",
       "</style>\n",
       "<table border=\"1\" class=\"dataframe\">\n",
       "  <thead>\n",
       "    <tr style=\"text-align: right;\">\n",
       "      <th></th>\n",
       "      <th>Name</th>\n",
       "      <th>Employee_ID</th>\n",
       "      <th>Age</th>\n",
       "      <th>Salary</th>\n",
       "      <th>Name_upper</th>\n",
       "      <th>Bonus</th>\n",
       "      <th>Department</th>\n",
       "      <th>Full_Info</th>\n",
       "      <th>Tax</th>\n",
       "      <th>Net_Salary</th>\n",
       "    </tr>\n",
       "  </thead>\n",
       "  <tbody>\n",
       "    <tr>\n",
       "      <th>0</th>\n",
       "      <td>Alice</td>\n",
       "      <td>E001</td>\n",
       "      <td>25</td>\n",
       "      <td>70000</td>\n",
       "      <td>ALICE</td>\n",
       "      <td>7000.0</td>\n",
       "      <td>IT</td>\n",
       "      <td>Alice (25)</td>\n",
       "      <td>21000.0</td>\n",
       "      <td>49000.0</td>\n",
       "    </tr>\n",
       "    <tr>\n",
       "      <th>1</th>\n",
       "      <td>Bob</td>\n",
       "      <td>E002</td>\n",
       "      <td>30</td>\n",
       "      <td>80000</td>\n",
       "      <td>BOB</td>\n",
       "      <td>8000.0</td>\n",
       "      <td>IT</td>\n",
       "      <td>Bob (30)</td>\n",
       "      <td>24000.0</td>\n",
       "      <td>56000.0</td>\n",
       "    </tr>\n",
       "    <tr>\n",
       "      <th>2</th>\n",
       "      <td>Charlie</td>\n",
       "      <td>E003</td>\n",
       "      <td>35</td>\n",
       "      <td>90000</td>\n",
       "      <td>CHARLIE</td>\n",
       "      <td>9000.0</td>\n",
       "      <td>IT</td>\n",
       "      <td>Charlie (35)</td>\n",
       "      <td>27000.0</td>\n",
       "      <td>63000.0</td>\n",
       "    </tr>\n",
       "    <tr>\n",
       "      <th>3</th>\n",
       "      <td>mohit</td>\n",
       "      <td>E004</td>\n",
       "      <td>20</td>\n",
       "      <td>40000</td>\n",
       "      <td>MOHIT</td>\n",
       "      <td>4000.0</td>\n",
       "      <td>IT</td>\n",
       "      <td>mohit (20)</td>\n",
       "      <td>12000.0</td>\n",
       "      <td>28000.0</td>\n",
       "    </tr>\n",
       "    <tr>\n",
       "      <th>4</th>\n",
       "      <td>suresh</td>\n",
       "      <td>E005</td>\n",
       "      <td>28</td>\n",
       "      <td>78000</td>\n",
       "      <td>SURESH</td>\n",
       "      <td>7800.0</td>\n",
       "      <td>IT</td>\n",
       "      <td>suresh (28)</td>\n",
       "      <td>23400.0</td>\n",
       "      <td>54600.0</td>\n",
       "    </tr>\n",
       "  </tbody>\n",
       "</table>\n",
       "</div>"
      ],
      "text/plain": [
       "      Name Employee_ID  Age  Salary Name_upper   Bonus Department  \\\n",
       "0    Alice        E001   25   70000      ALICE  7000.0         IT   \n",
       "1      Bob        E002   30   80000        BOB  8000.0         IT   \n",
       "2  Charlie        E003   35   90000    CHARLIE  9000.0         IT   \n",
       "3    mohit        E004   20   40000      MOHIT  4000.0         IT   \n",
       "4   suresh        E005   28   78000     SURESH  7800.0         IT   \n",
       "\n",
       "      Full_Info      Tax  Net_Salary  \n",
       "0    Alice (25)  21000.0     49000.0  \n",
       "1      Bob (30)  24000.0     56000.0  \n",
       "2  Charlie (35)  27000.0     63000.0  \n",
       "3    mohit (20)  12000.0     28000.0  \n",
       "4   suresh (28)  23400.0     54600.0  "
      ]
     },
     "execution_count": 66,
     "metadata": {},
     "output_type": "execute_result"
    }
   ],
   "source": [
    "df"
   ]
  },
  {
   "cell_type": "code",
   "execution_count": 68,
   "id": "b65c6cf3-d618-4a12-a34a-1fe6cd0f39bb",
   "metadata": {},
   "outputs": [],
   "source": [
    "# Insert column at specific position\n",
    "df.insert(0, 'Employee_ID1', ['E001', 'E002', 'E003', \"E004\",\"E005\"])"
   ]
  },
  {
   "cell_type": "code",
   "execution_count": 69,
   "id": "5ac5ee0f-6175-4f9e-b659-3cc0172c3443",
   "metadata": {},
   "outputs": [
    {
     "data": {
      "text/html": [
       "<div>\n",
       "<style scoped>\n",
       "    .dataframe tbody tr th:only-of-type {\n",
       "        vertical-align: middle;\n",
       "    }\n",
       "\n",
       "    .dataframe tbody tr th {\n",
       "        vertical-align: top;\n",
       "    }\n",
       "\n",
       "    .dataframe thead th {\n",
       "        text-align: right;\n",
       "    }\n",
       "</style>\n",
       "<table border=\"1\" class=\"dataframe\">\n",
       "  <thead>\n",
       "    <tr style=\"text-align: right;\">\n",
       "      <th></th>\n",
       "      <th>Employee_ID1</th>\n",
       "      <th>Name</th>\n",
       "      <th>Employee_ID</th>\n",
       "      <th>Age</th>\n",
       "      <th>Salary</th>\n",
       "      <th>Name_upper</th>\n",
       "      <th>Bonus</th>\n",
       "      <th>Department</th>\n",
       "      <th>Full_Info</th>\n",
       "      <th>Tax</th>\n",
       "      <th>Net_Salary</th>\n",
       "    </tr>\n",
       "  </thead>\n",
       "  <tbody>\n",
       "    <tr>\n",
       "      <th>0</th>\n",
       "      <td>E001</td>\n",
       "      <td>Alice</td>\n",
       "      <td>E001</td>\n",
       "      <td>25</td>\n",
       "      <td>70000</td>\n",
       "      <td>ALICE</td>\n",
       "      <td>7000.0</td>\n",
       "      <td>IT</td>\n",
       "      <td>Alice (25)</td>\n",
       "      <td>21000.0</td>\n",
       "      <td>49000.0</td>\n",
       "    </tr>\n",
       "    <tr>\n",
       "      <th>1</th>\n",
       "      <td>E002</td>\n",
       "      <td>Bob</td>\n",
       "      <td>E002</td>\n",
       "      <td>30</td>\n",
       "      <td>80000</td>\n",
       "      <td>BOB</td>\n",
       "      <td>8000.0</td>\n",
       "      <td>IT</td>\n",
       "      <td>Bob (30)</td>\n",
       "      <td>24000.0</td>\n",
       "      <td>56000.0</td>\n",
       "    </tr>\n",
       "    <tr>\n",
       "      <th>2</th>\n",
       "      <td>E003</td>\n",
       "      <td>Charlie</td>\n",
       "      <td>E003</td>\n",
       "      <td>35</td>\n",
       "      <td>90000</td>\n",
       "      <td>CHARLIE</td>\n",
       "      <td>9000.0</td>\n",
       "      <td>IT</td>\n",
       "      <td>Charlie (35)</td>\n",
       "      <td>27000.0</td>\n",
       "      <td>63000.0</td>\n",
       "    </tr>\n",
       "    <tr>\n",
       "      <th>3</th>\n",
       "      <td>E004</td>\n",
       "      <td>mohit</td>\n",
       "      <td>E004</td>\n",
       "      <td>20</td>\n",
       "      <td>40000</td>\n",
       "      <td>MOHIT</td>\n",
       "      <td>4000.0</td>\n",
       "      <td>IT</td>\n",
       "      <td>mohit (20)</td>\n",
       "      <td>12000.0</td>\n",
       "      <td>28000.0</td>\n",
       "    </tr>\n",
       "    <tr>\n",
       "      <th>4</th>\n",
       "      <td>E005</td>\n",
       "      <td>suresh</td>\n",
       "      <td>E005</td>\n",
       "      <td>28</td>\n",
       "      <td>78000</td>\n",
       "      <td>SURESH</td>\n",
       "      <td>7800.0</td>\n",
       "      <td>IT</td>\n",
       "      <td>suresh (28)</td>\n",
       "      <td>23400.0</td>\n",
       "      <td>54600.0</td>\n",
       "    </tr>\n",
       "  </tbody>\n",
       "</table>\n",
       "</div>"
      ],
      "text/plain": [
       "  Employee_ID1     Name Employee_ID  Age  Salary Name_upper   Bonus  \\\n",
       "0         E001    Alice        E001   25   70000      ALICE  7000.0   \n",
       "1         E002      Bob        E002   30   80000        BOB  8000.0   \n",
       "2         E003  Charlie        E003   35   90000    CHARLIE  9000.0   \n",
       "3         E004    mohit        E004   20   40000      MOHIT  4000.0   \n",
       "4         E005   suresh        E005   28   78000     SURESH  7800.0   \n",
       "\n",
       "  Department     Full_Info      Tax  Net_Salary  \n",
       "0         IT    Alice (25)  21000.0     49000.0  \n",
       "1         IT      Bob (30)  24000.0     56000.0  \n",
       "2         IT  Charlie (35)  27000.0     63000.0  \n",
       "3         IT    mohit (20)  12000.0     28000.0  \n",
       "4         IT   suresh (28)  23400.0     54600.0  "
      ]
     },
     "execution_count": 69,
     "metadata": {},
     "output_type": "execute_result"
    }
   ],
   "source": [
    "df"
   ]
  },
  {
   "cell_type": "code",
   "execution_count": 71,
   "id": "3ccff091-e358-4fcc-bfde-6e53f0fde5b5",
   "metadata": {},
   "outputs": [],
   "source": [
    "df.drop(\"Employee_ID\",axis=1,inplace=True)"
   ]
  },
  {
   "cell_type": "code",
   "execution_count": null,
   "id": "1b9d7dc9-ff75-4ea5-8eeb-76079e78c5e4",
   "metadata": {},
   "outputs": [],
   "source": []
  },
  {
   "cell_type": "code",
   "execution_count": 72,
   "id": "03fe5a9a-ee40-40d0-9a62-23a570222b9b",
   "metadata": {},
   "outputs": [],
   "source": [
    "df_renamed = df[[\"Name\", \"Age\"]].rename(columns={'Name': 'Employee_Name', 'Age': 'Employee_Age'})"
   ]
  },
  {
   "cell_type": "code",
   "execution_count": 73,
   "id": "740e4b25-386a-4173-b693-96b12b225306",
   "metadata": {},
   "outputs": [
    {
     "data": {
      "text/html": [
       "<div>\n",
       "<style scoped>\n",
       "    .dataframe tbody tr th:only-of-type {\n",
       "        vertical-align: middle;\n",
       "    }\n",
       "\n",
       "    .dataframe tbody tr th {\n",
       "        vertical-align: top;\n",
       "    }\n",
       "\n",
       "    .dataframe thead th {\n",
       "        text-align: right;\n",
       "    }\n",
       "</style>\n",
       "<table border=\"1\" class=\"dataframe\">\n",
       "  <thead>\n",
       "    <tr style=\"text-align: right;\">\n",
       "      <th></th>\n",
       "      <th>Employee_Name</th>\n",
       "      <th>Employee_Age</th>\n",
       "    </tr>\n",
       "  </thead>\n",
       "  <tbody>\n",
       "    <tr>\n",
       "      <th>0</th>\n",
       "      <td>Alice</td>\n",
       "      <td>25</td>\n",
       "    </tr>\n",
       "    <tr>\n",
       "      <th>1</th>\n",
       "      <td>Bob</td>\n",
       "      <td>30</td>\n",
       "    </tr>\n",
       "    <tr>\n",
       "      <th>2</th>\n",
       "      <td>Charlie</td>\n",
       "      <td>35</td>\n",
       "    </tr>\n",
       "    <tr>\n",
       "      <th>3</th>\n",
       "      <td>mohit</td>\n",
       "      <td>20</td>\n",
       "    </tr>\n",
       "    <tr>\n",
       "      <th>4</th>\n",
       "      <td>suresh</td>\n",
       "      <td>28</td>\n",
       "    </tr>\n",
       "  </tbody>\n",
       "</table>\n",
       "</div>"
      ],
      "text/plain": [
       "  Employee_Name  Employee_Age\n",
       "0         Alice            25\n",
       "1           Bob            30\n",
       "2       Charlie            35\n",
       "3         mohit            20\n",
       "4        suresh            28"
      ]
     },
     "execution_count": 73,
     "metadata": {},
     "output_type": "execute_result"
    }
   ],
   "source": [
    "df_renamed"
   ]
  },
  {
   "cell_type": "code",
   "execution_count": 75,
   "id": "08e10aa9-a25b-4cec-871e-cf40fe591492",
   "metadata": {},
   "outputs": [],
   "source": [
    "df = df.iloc[:,[0,1,2,3,5,8,9]]"
   ]
  },
  {
   "cell_type": "code",
   "execution_count": 76,
   "id": "be13f24b-3c79-4d80-aaa1-e9537ec98720",
   "metadata": {},
   "outputs": [
    {
     "data": {
      "text/html": [
       "<div>\n",
       "<style scoped>\n",
       "    .dataframe tbody tr th:only-of-type {\n",
       "        vertical-align: middle;\n",
       "    }\n",
       "\n",
       "    .dataframe tbody tr th {\n",
       "        vertical-align: top;\n",
       "    }\n",
       "\n",
       "    .dataframe thead th {\n",
       "        text-align: right;\n",
       "    }\n",
       "</style>\n",
       "<table border=\"1\" class=\"dataframe\">\n",
       "  <thead>\n",
       "    <tr style=\"text-align: right;\">\n",
       "      <th></th>\n",
       "      <th>Employee_ID1</th>\n",
       "      <th>Name</th>\n",
       "      <th>Age</th>\n",
       "      <th>Salary</th>\n",
       "      <th>Bonus</th>\n",
       "      <th>Tax</th>\n",
       "      <th>Net_Salary</th>\n",
       "    </tr>\n",
       "  </thead>\n",
       "  <tbody>\n",
       "    <tr>\n",
       "      <th>0</th>\n",
       "      <td>E001</td>\n",
       "      <td>Alice</td>\n",
       "      <td>25</td>\n",
       "      <td>70000</td>\n",
       "      <td>7000.0</td>\n",
       "      <td>21000.0</td>\n",
       "      <td>49000.0</td>\n",
       "    </tr>\n",
       "    <tr>\n",
       "      <th>1</th>\n",
       "      <td>E002</td>\n",
       "      <td>Bob</td>\n",
       "      <td>30</td>\n",
       "      <td>80000</td>\n",
       "      <td>8000.0</td>\n",
       "      <td>24000.0</td>\n",
       "      <td>56000.0</td>\n",
       "    </tr>\n",
       "    <tr>\n",
       "      <th>2</th>\n",
       "      <td>E003</td>\n",
       "      <td>Charlie</td>\n",
       "      <td>35</td>\n",
       "      <td>90000</td>\n",
       "      <td>9000.0</td>\n",
       "      <td>27000.0</td>\n",
       "      <td>63000.0</td>\n",
       "    </tr>\n",
       "    <tr>\n",
       "      <th>3</th>\n",
       "      <td>E004</td>\n",
       "      <td>mohit</td>\n",
       "      <td>20</td>\n",
       "      <td>40000</td>\n",
       "      <td>4000.0</td>\n",
       "      <td>12000.0</td>\n",
       "      <td>28000.0</td>\n",
       "    </tr>\n",
       "    <tr>\n",
       "      <th>4</th>\n",
       "      <td>E005</td>\n",
       "      <td>suresh</td>\n",
       "      <td>28</td>\n",
       "      <td>78000</td>\n",
       "      <td>7800.0</td>\n",
       "      <td>23400.0</td>\n",
       "      <td>54600.0</td>\n",
       "    </tr>\n",
       "  </tbody>\n",
       "</table>\n",
       "</div>"
      ],
      "text/plain": [
       "  Employee_ID1     Name  Age  Salary   Bonus      Tax  Net_Salary\n",
       "0         E001    Alice   25   70000  7000.0  21000.0     49000.0\n",
       "1         E002      Bob   30   80000  8000.0  24000.0     56000.0\n",
       "2         E003  Charlie   35   90000  9000.0  27000.0     63000.0\n",
       "3         E004    mohit   20   40000  4000.0  12000.0     28000.0\n",
       "4         E005   suresh   28   78000  7800.0  23400.0     54600.0"
      ]
     },
     "execution_count": 76,
     "metadata": {},
     "output_type": "execute_result"
    }
   ],
   "source": [
    "df"
   ]
  },
  {
   "cell_type": "code",
   "execution_count": 77,
   "id": "0e25e5b4-8d33-4dde-a351-02a21e7196cd",
   "metadata": {},
   "outputs": [
    {
     "data": {
      "text/plain": [
       "Index(['Employee_ID1', 'Name', 'Age', 'Salary', 'Bonus', 'Tax', 'Net_Salary'], dtype='object')"
      ]
     },
     "execution_count": 77,
     "metadata": {},
     "output_type": "execute_result"
    }
   ],
   "source": [
    "df.columns"
   ]
  },
  {
   "cell_type": "code",
   "execution_count": 78,
   "id": "28256914-5eb2-49ce-93d0-f7e1bfb372ce",
   "metadata": {},
   "outputs": [],
   "source": [
    "df.columns = ['col_' + str(i) for i in range(len(df.columns))]"
   ]
  },
  {
   "cell_type": "code",
   "execution_count": 79,
   "id": "297ddae6-f45e-411c-9c60-e9f9c459d648",
   "metadata": {},
   "outputs": [
    {
     "data": {
      "text/plain": [
       "Index(['col_0', 'col_1', 'col_2', 'col_3', 'col_4', 'col_5', 'col_6'], dtype='object')"
      ]
     },
     "execution_count": 79,
     "metadata": {},
     "output_type": "execute_result"
    }
   ],
   "source": [
    "df.columns"
   ]
  },
  {
   "cell_type": "code",
   "execution_count": null,
   "id": "1b261e50-fd38-48df-a202-50c764555552",
   "metadata": {},
   "outputs": [],
   "source": []
  },
  {
   "cell_type": "code",
   "execution_count": 80,
   "id": "e32a909b-f375-4acc-b769-8ca079988084",
   "metadata": {},
   "outputs": [],
   "source": [
    "df_sort = pd.DataFrame({\n",
    "    'Name': ['Alice', 'Bob', 'Charlie', 'Diana'],\n",
    "    'Age': [25, 35, 30, 28],\n",
    "    'Salary': [70000, 90000, 80000, 75000],\n",
    "    'Department': ['HR', 'IT', 'Finance', 'HR']\n",
    "})"
   ]
  },
  {
   "cell_type": "code",
   "execution_count": 81,
   "id": "9084afda-ae5e-4e22-90ab-ab7946f3c4b3",
   "metadata": {},
   "outputs": [
    {
     "data": {
      "text/html": [
       "<div>\n",
       "<style scoped>\n",
       "    .dataframe tbody tr th:only-of-type {\n",
       "        vertical-align: middle;\n",
       "    }\n",
       "\n",
       "    .dataframe tbody tr th {\n",
       "        vertical-align: top;\n",
       "    }\n",
       "\n",
       "    .dataframe thead th {\n",
       "        text-align: right;\n",
       "    }\n",
       "</style>\n",
       "<table border=\"1\" class=\"dataframe\">\n",
       "  <thead>\n",
       "    <tr style=\"text-align: right;\">\n",
       "      <th></th>\n",
       "      <th>Name</th>\n",
       "      <th>Age</th>\n",
       "      <th>Salary</th>\n",
       "      <th>Department</th>\n",
       "    </tr>\n",
       "  </thead>\n",
       "  <tbody>\n",
       "    <tr>\n",
       "      <th>0</th>\n",
       "      <td>Alice</td>\n",
       "      <td>25</td>\n",
       "      <td>70000</td>\n",
       "      <td>HR</td>\n",
       "    </tr>\n",
       "    <tr>\n",
       "      <th>1</th>\n",
       "      <td>Bob</td>\n",
       "      <td>35</td>\n",
       "      <td>90000</td>\n",
       "      <td>IT</td>\n",
       "    </tr>\n",
       "    <tr>\n",
       "      <th>2</th>\n",
       "      <td>Charlie</td>\n",
       "      <td>30</td>\n",
       "      <td>80000</td>\n",
       "      <td>Finance</td>\n",
       "    </tr>\n",
       "    <tr>\n",
       "      <th>3</th>\n",
       "      <td>Diana</td>\n",
       "      <td>28</td>\n",
       "      <td>75000</td>\n",
       "      <td>HR</td>\n",
       "    </tr>\n",
       "  </tbody>\n",
       "</table>\n",
       "</div>"
      ],
      "text/plain": [
       "      Name  Age  Salary Department\n",
       "0    Alice   25   70000         HR\n",
       "1      Bob   35   90000         IT\n",
       "2  Charlie   30   80000    Finance\n",
       "3    Diana   28   75000         HR"
      ]
     },
     "execution_count": 81,
     "metadata": {},
     "output_type": "execute_result"
    }
   ],
   "source": [
    "df_sort"
   ]
  },
  {
   "cell_type": "code",
   "execution_count": 82,
   "id": "e6b726fe-db6e-46f3-9b37-dd7b6e61269c",
   "metadata": {},
   "outputs": [
    {
     "name": "stdout",
     "output_type": "stream",
     "text": [
      "      Name  Age  Salary Department\n",
      "0    Alice   25   70000         HR\n",
      "3    Diana   28   75000         HR\n",
      "2  Charlie   30   80000    Finance\n",
      "1      Bob   35   90000         IT\n"
     ]
    }
   ],
   "source": [
    "print(df_sort.sort_values('Age'))                    # Ascending"
   ]
  },
  {
   "cell_type": "code",
   "execution_count": 83,
   "id": "f13e3d1d-d7e0-48a0-8711-6f5a34a8bd73",
   "metadata": {},
   "outputs": [
    {
     "name": "stdout",
     "output_type": "stream",
     "text": [
      "      Name  Age  Salary Department\n",
      "1      Bob   35   90000         IT\n",
      "2  Charlie   30   80000    Finance\n",
      "3    Diana   28   75000         HR\n",
      "0    Alice   25   70000         HR\n"
     ]
    }
   ],
   "source": [
    "print(df_sort.sort_values('Age', ascending=False))   # Descending"
   ]
  },
  {
   "cell_type": "code",
   "execution_count": 84,
   "id": "651bf9ee-67aa-45d5-a8c0-7473bd398628",
   "metadata": {},
   "outputs": [
    {
     "data": {
      "text/html": [
       "<div>\n",
       "<style scoped>\n",
       "    .dataframe tbody tr th:only-of-type {\n",
       "        vertical-align: middle;\n",
       "    }\n",
       "\n",
       "    .dataframe tbody tr th {\n",
       "        vertical-align: top;\n",
       "    }\n",
       "\n",
       "    .dataframe thead th {\n",
       "        text-align: right;\n",
       "    }\n",
       "</style>\n",
       "<table border=\"1\" class=\"dataframe\">\n",
       "  <thead>\n",
       "    <tr style=\"text-align: right;\">\n",
       "      <th></th>\n",
       "      <th>Name</th>\n",
       "      <th>Age</th>\n",
       "      <th>Salary</th>\n",
       "      <th>Department</th>\n",
       "    </tr>\n",
       "  </thead>\n",
       "  <tbody>\n",
       "    <tr>\n",
       "      <th>1</th>\n",
       "      <td>Bob</td>\n",
       "      <td>35</td>\n",
       "      <td>90000</td>\n",
       "      <td>IT</td>\n",
       "    </tr>\n",
       "    <tr>\n",
       "      <th>2</th>\n",
       "      <td>Charlie</td>\n",
       "      <td>30</td>\n",
       "      <td>80000</td>\n",
       "      <td>Finance</td>\n",
       "    </tr>\n",
       "    <tr>\n",
       "      <th>3</th>\n",
       "      <td>Diana</td>\n",
       "      <td>28</td>\n",
       "      <td>75000</td>\n",
       "      <td>HR</td>\n",
       "    </tr>\n",
       "  </tbody>\n",
       "</table>\n",
       "</div>"
      ],
      "text/plain": [
       "      Name  Age  Salary Department\n",
       "1      Bob   35   90000         IT\n",
       "2  Charlie   30   80000    Finance\n",
       "3    Diana   28   75000         HR"
      ]
     },
     "execution_count": 84,
     "metadata": {},
     "output_type": "execute_result"
    }
   ],
   "source": [
    "df_sort.drop(0)"
   ]
  },
  {
   "cell_type": "code",
   "execution_count": 85,
   "id": "e12e4661-50a0-4e54-9f90-2727cf62ecb9",
   "metadata": {},
   "outputs": [
    {
     "data": {
      "text/html": [
       "<div>\n",
       "<style scoped>\n",
       "    .dataframe tbody tr th:only-of-type {\n",
       "        vertical-align: middle;\n",
       "    }\n",
       "\n",
       "    .dataframe tbody tr th {\n",
       "        vertical-align: top;\n",
       "    }\n",
       "\n",
       "    .dataframe thead th {\n",
       "        text-align: right;\n",
       "    }\n",
       "</style>\n",
       "<table border=\"1\" class=\"dataframe\">\n",
       "  <thead>\n",
       "    <tr style=\"text-align: right;\">\n",
       "      <th></th>\n",
       "      <th>Name</th>\n",
       "      <th>Age</th>\n",
       "      <th>Salary</th>\n",
       "      <th>Department</th>\n",
       "    </tr>\n",
       "  </thead>\n",
       "  <tbody>\n",
       "    <tr>\n",
       "      <th>0</th>\n",
       "      <td>Alice</td>\n",
       "      <td>25</td>\n",
       "      <td>70000</td>\n",
       "      <td>HR</td>\n",
       "    </tr>\n",
       "    <tr>\n",
       "      <th>1</th>\n",
       "      <td>Bob</td>\n",
       "      <td>35</td>\n",
       "      <td>90000</td>\n",
       "      <td>IT</td>\n",
       "    </tr>\n",
       "    <tr>\n",
       "      <th>2</th>\n",
       "      <td>Charlie</td>\n",
       "      <td>30</td>\n",
       "      <td>80000</td>\n",
       "      <td>Finance</td>\n",
       "    </tr>\n",
       "    <tr>\n",
       "      <th>3</th>\n",
       "      <td>Diana</td>\n",
       "      <td>28</td>\n",
       "      <td>75000</td>\n",
       "      <td>HR</td>\n",
       "    </tr>\n",
       "  </tbody>\n",
       "</table>\n",
       "</div>"
      ],
      "text/plain": [
       "      Name  Age  Salary Department\n",
       "0    Alice   25   70000         HR\n",
       "1      Bob   35   90000         IT\n",
       "2  Charlie   30   80000    Finance\n",
       "3    Diana   28   75000         HR"
      ]
     },
     "execution_count": 85,
     "metadata": {},
     "output_type": "execute_result"
    }
   ],
   "source": [
    "df_sort"
   ]
  },
  {
   "cell_type": "code",
   "execution_count": null,
   "id": "1a17f2d5-a011-4bde-9111-a1e70c69d98d",
   "metadata": {},
   "outputs": [],
   "source": []
  }
 ],
 "metadata": {
  "kernelspec": {
   "display_name": "Python 3 (ipykernel)",
   "language": "python",
   "name": "python3"
  },
  "language_info": {
   "codemirror_mode": {
    "name": "ipython",
    "version": 3
   },
   "file_extension": ".py",
   "mimetype": "text/x-python",
   "name": "python",
   "nbconvert_exporter": "python",
   "pygments_lexer": "ipython3",
   "version": "3.11.7"
  }
 },
 "nbformat": 4,
 "nbformat_minor": 5
}
