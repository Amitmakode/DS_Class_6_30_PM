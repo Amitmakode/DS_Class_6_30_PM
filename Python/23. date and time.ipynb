{
 "cells": [
  {
   "cell_type": "code",
   "execution_count": 2,
   "id": "e749fd57-9c1d-42a0-a672-5544a85a8032",
   "metadata": {},
   "outputs": [],
   "source": [
    "import datetime"
   ]
  },
  {
   "cell_type": "code",
   "execution_count": 57,
   "id": "474e2858-49b0-4ad2-9943-909af614cee2",
   "metadata": {},
   "outputs": [],
   "source": [
    "from datetime import datetime"
   ]
  },
  {
   "cell_type": "code",
   "execution_count": 58,
   "id": "c05ba813-4de7-466a-81d1-030610a3277f",
   "metadata": {},
   "outputs": [],
   "source": [
    "now = datetime.now()"
   ]
  },
  {
   "cell_type": "code",
   "execution_count": 59,
   "id": "6bd5c597-da69-468f-ad30-4296e8b0ca26",
   "metadata": {},
   "outputs": [
    {
     "data": {
      "text/plain": [
       "datetime.datetime(2025, 7, 29, 19, 23, 18, 386168)"
      ]
     },
     "execution_count": 59,
     "metadata": {},
     "output_type": "execute_result"
    }
   ],
   "source": [
    "now"
   ]
  },
  {
   "cell_type": "code",
   "execution_count": 60,
   "id": "21423c3d-7fc3-4276-87bb-df713bd931dd",
   "metadata": {},
   "outputs": [],
   "source": [
    "specific_dt = datetime(2024, 7, 21, 14, 30, 45)"
   ]
  },
  {
   "cell_type": "code",
   "execution_count": 61,
   "id": "ee4dc41f-d4b4-4c18-93eb-1fd54cb614f7",
   "metadata": {},
   "outputs": [
    {
     "name": "stdout",
     "output_type": "stream",
     "text": [
      "Year: 2025\n"
     ]
    }
   ],
   "source": [
    "print(f\"Year: {now.year}\")"
   ]
  },
  {
   "cell_type": "code",
   "execution_count": 62,
   "id": "891290b5-58d8-4760-8ca3-415e69c72d1c",
   "metadata": {},
   "outputs": [
    {
     "name": "stdout",
     "output_type": "stream",
     "text": [
      "Month: 7\n",
      "Day: 29\n",
      "Hour: 19\n",
      "Minute: 23\n",
      "Second: 18\n",
      "Microsecond: 386168\n"
     ]
    }
   ],
   "source": [
    "print(f\"Month: {now.month}\")\n",
    "print(f\"Day: {now.day}\")\n",
    "print(f\"Hour: {now.hour}\")\n",
    "print(f\"Minute: {now.minute}\")\n",
    "print(f\"Second: {now.second}\")\n",
    "print(f\"Microsecond: {now.microsecond}\")"
   ]
  },
  {
   "cell_type": "code",
   "execution_count": null,
   "id": "7174cb22-fba2-4d74-9ca9-ef3b60b0901a",
   "metadata": {},
   "outputs": [],
   "source": []
  },
  {
   "cell_type": "code",
   "execution_count": 110,
   "id": "7d5adb44-eafd-441b-bd4e-feaef5ba0e2a",
   "metadata": {},
   "outputs": [
    {
     "data": {
      "text/plain": [
       "datetime.datetime(2024, 12, 10, 12, 30, 45)"
      ]
     },
     "execution_count": 110,
     "metadata": {},
     "output_type": "execute_result"
    }
   ],
   "source": [
    "x = \"2024-12-10 12:30:45\"\n",
    "\n",
    "datetime.strptime(x, \"%Y-%m-%d %H:%M:%S\")"
   ]
  },
  {
   "cell_type": "code",
   "execution_count": null,
   "id": "896636cb-1c87-4147-b17e-4e7c827e39ba",
   "metadata": {},
   "outputs": [],
   "source": []
  },
  {
   "cell_type": "code",
   "execution_count": 63,
   "id": "7077db75-11fd-4f7f-8077-e2875b7c678b",
   "metadata": {},
   "outputs": [],
   "source": [
    "from datetime import date"
   ]
  },
  {
   "cell_type": "code",
   "execution_count": 64,
   "id": "1ec3acfe-ae60-448a-86f8-d582aa22379e",
   "metadata": {},
   "outputs": [],
   "source": [
    "today = date.today()"
   ]
  },
  {
   "cell_type": "code",
   "execution_count": 65,
   "id": "86fff361-cf90-4184-9db8-e071725ce71e",
   "metadata": {},
   "outputs": [
    {
     "data": {
      "text/plain": [
       "datetime.date(2025, 7, 29)"
      ]
     },
     "execution_count": 65,
     "metadata": {},
     "output_type": "execute_result"
    }
   ],
   "source": [
    "today"
   ]
  },
  {
   "cell_type": "code",
   "execution_count": 66,
   "id": "8cb2d1c7-060b-47bf-ad34-846ede879fe9",
   "metadata": {},
   "outputs": [],
   "source": [
    "birth_date = date(1990, 5, 15)"
   ]
  },
  {
   "cell_type": "code",
   "execution_count": 67,
   "id": "4f61f187-ea63-467b-88c4-207a84b6717d",
   "metadata": {},
   "outputs": [
    {
     "data": {
      "text/plain": [
       "datetime.date(1990, 5, 15)"
      ]
     },
     "execution_count": 67,
     "metadata": {},
     "output_type": "execute_result"
    }
   ],
   "source": [
    "birth_date"
   ]
  },
  {
   "cell_type": "code",
   "execution_count": 68,
   "id": "b57e5b68-317e-4843-8bcd-85feada1c6f1",
   "metadata": {},
   "outputs": [
    {
     "name": "stdout",
     "output_type": "stream",
     "text": [
      "Weekday (0=Monday, 6=Sunday): 1\n"
     ]
    }
   ],
   "source": [
    "print(f\"Weekday (0=Monday, 6=Sunday): {today.weekday()}\")"
   ]
  },
  {
   "cell_type": "code",
   "execution_count": 69,
   "id": "694de1d4-eed3-432e-9851-8d6a67298e6e",
   "metadata": {},
   "outputs": [
    {
     "name": "stdout",
     "output_type": "stream",
     "text": [
      "ISO weekday (1=Monday, 7=Sunday): 2\n"
     ]
    }
   ],
   "source": [
    "print(f\"ISO weekday (1=Monday, 7=Sunday): {today.isoweekday()}\")"
   ]
  },
  {
   "cell_type": "code",
   "execution_count": null,
   "id": "0d0f9328-d76a-453e-afcb-edbbf3b790a6",
   "metadata": {},
   "outputs": [],
   "source": []
  },
  {
   "cell_type": "code",
   "execution_count": 114,
   "id": "975a3bcc-56d8-4933-ab00-54b39f8f6173",
   "metadata": {},
   "outputs": [
    {
     "name": "stdout",
     "output_type": "stream",
     "text": [
      "209\n"
     ]
    }
   ],
   "source": [
    "from datetime import datetime\n",
    "\n",
    "start = datetime(2025, 1, 1)\n",
    "end = datetime(2025, 7, 29)\n",
    "\n",
    "days_diff = (end - start).days\n",
    "print(days_diff)  "
   ]
  },
  {
   "cell_type": "code",
   "execution_count": null,
   "id": "0ab966dd-e617-4705-916e-c9215825c22a",
   "metadata": {},
   "outputs": [],
   "source": []
  },
  {
   "cell_type": "code",
   "execution_count": null,
   "id": "34d3f4cd-cc73-4bbd-bec9-ffc0268e5c4f",
   "metadata": {},
   "outputs": [],
   "source": []
  },
  {
   "cell_type": "code",
   "execution_count": 70,
   "id": "909341ab-f382-4874-bed2-3baa6203e010",
   "metadata": {},
   "outputs": [],
   "source": [
    "from datetime import time"
   ]
  },
  {
   "cell_type": "code",
   "execution_count": 71,
   "id": "5b99053c-ff2e-4c3b-9c4f-a14220887013",
   "metadata": {},
   "outputs": [],
   "source": [
    "meeting_time = time(14, 30, 0)"
   ]
  },
  {
   "cell_type": "code",
   "execution_count": 72,
   "id": "20df8734-a799-4e87-bb83-c4c0f6a87803",
   "metadata": {},
   "outputs": [
    {
     "data": {
      "text/plain": [
       "datetime.time(14, 30)"
      ]
     },
     "execution_count": 72,
     "metadata": {},
     "output_type": "execute_result"
    }
   ],
   "source": [
    "meeting_time"
   ]
  },
  {
   "cell_type": "code",
   "execution_count": 73,
   "id": "6b1deb15-7544-4346-923b-16378f98340e",
   "metadata": {},
   "outputs": [
    {
     "data": {
      "text/plain": [
       "list"
      ]
     },
     "execution_count": 73,
     "metadata": {},
     "output_type": "execute_result"
    }
   ],
   "source": [
    "type([2,3,4])"
   ]
  },
  {
   "cell_type": "code",
   "execution_count": 74,
   "id": "5653d455-1de8-4004-9520-9d5ca106e6ea",
   "metadata": {},
   "outputs": [
    {
     "name": "stdout",
     "output_type": "stream",
     "text": [
      "Hour: 14\n",
      "Minute: 30\n",
      "Second: 0\n"
     ]
    }
   ],
   "source": [
    "print(f\"Hour: {meeting_time.hour}\")\n",
    "print(f\"Minute: {meeting_time.minute}\")\n",
    "print(f\"Second: {meeting_time.second}\")"
   ]
  },
  {
   "cell_type": "code",
   "execution_count": null,
   "id": "4177f4cd-2964-45ff-91c1-f3121b1e9c6c",
   "metadata": {},
   "outputs": [],
   "source": []
  },
  {
   "cell_type": "code",
   "execution_count": 75,
   "id": "0720dde7-fa3f-4353-94ae-5e1a793ec84f",
   "metadata": {},
   "outputs": [],
   "source": [
    "from datetime import datetime"
   ]
  },
  {
   "cell_type": "code",
   "execution_count": 76,
   "id": "f28ffd45-a6be-4036-94c1-4b0603bc85db",
   "metadata": {},
   "outputs": [],
   "source": [
    "# Common formats for data science reports\n",
    "iso_format = now.strftime('%Y-%m-%d %H:%M:%S')"
   ]
  },
  {
   "cell_type": "code",
   "execution_count": 77,
   "id": "fd98096d-be4e-4df5-98f5-d74b6fb48a61",
   "metadata": {},
   "outputs": [
    {
     "data": {
      "text/plain": [
       "'2025-07-29 19:23:18'"
      ]
     },
     "execution_count": 77,
     "metadata": {},
     "output_type": "execute_result"
    }
   ],
   "source": [
    "iso_format"
   ]
  },
  {
   "cell_type": "code",
   "execution_count": 78,
   "id": "e792f17f-93d0-4802-99ea-a6fbeb4b29ac",
   "metadata": {},
   "outputs": [],
   "source": [
    "readable_format = now.strftime('%A, %B %d, %Y')"
   ]
  },
  {
   "cell_type": "code",
   "execution_count": 79,
   "id": "e6f11d52-c5ad-499f-aa4e-15e1a9736cfb",
   "metadata": {},
   "outputs": [
    {
     "data": {
      "text/plain": [
       "'Tuesday, July 29, 2025'"
      ]
     },
     "execution_count": 79,
     "metadata": {},
     "output_type": "execute_result"
    }
   ],
   "source": [
    "readable_format"
   ]
  },
  {
   "cell_type": "code",
   "execution_count": 80,
   "id": "2ea6cd4b-3936-4399-a17d-516b5e25ba38",
   "metadata": {},
   "outputs": [],
   "source": [
    "compact_format = now.strftime('%Y%B%d_%H%M%S') "
   ]
  },
  {
   "cell_type": "code",
   "execution_count": 81,
   "id": "6e984964-f956-47fb-85a4-354cfa77e9b2",
   "metadata": {},
   "outputs": [
    {
     "data": {
      "text/plain": [
       "'2025July29_192318'"
      ]
     },
     "execution_count": 81,
     "metadata": {},
     "output_type": "execute_result"
    }
   ],
   "source": [
    "compact_format"
   ]
  },
  {
   "cell_type": "code",
   "execution_count": 82,
   "id": "94807707-69d7-4509-bcec-6d7b51ba8b3f",
   "metadata": {},
   "outputs": [],
   "source": [
    "european_format = now.strftime('%d/%m/%Y %H:%M')\n",
    "american_format = now.strftime('%B/%d/%Y %I:%M %p')"
   ]
  },
  {
   "cell_type": "code",
   "execution_count": 83,
   "id": "a269b643-72a9-4a9b-9621-d6ee62fff65e",
   "metadata": {},
   "outputs": [
    {
     "data": {
      "text/plain": [
       "'29/07/2025 19:23'"
      ]
     },
     "execution_count": 83,
     "metadata": {},
     "output_type": "execute_result"
    }
   ],
   "source": [
    "european_format"
   ]
  },
  {
   "cell_type": "code",
   "execution_count": 84,
   "id": "b1705564-fd0c-4d21-82c0-19a85a49dc86",
   "metadata": {},
   "outputs": [
    {
     "data": {
      "text/plain": [
       "'July/29/2025 07:23 PM'"
      ]
     },
     "execution_count": 84,
     "metadata": {},
     "output_type": "execute_result"
    }
   ],
   "source": [
    "american_format"
   ]
  },
  {
   "cell_type": "code",
   "execution_count": null,
   "id": "9ab29a23-fda7-40b7-a881-a8312762e0f1",
   "metadata": {},
   "outputs": [],
   "source": []
  },
  {
   "cell_type": "code",
   "execution_count": 85,
   "id": "e49e8f6e-23d6-4acf-b8ae-53690f40caf2",
   "metadata": {},
   "outputs": [],
   "source": [
    "from datetime import datetime, timedelta"
   ]
  },
  {
   "cell_type": "code",
   "execution_count": 86,
   "id": "74dc4fa9-0e33-4c18-b757-3513210a84a7",
   "metadata": {},
   "outputs": [],
   "source": [
    "birth_date = datetime(1990, 5, 15)\n",
    "current_date = datetime.now()\n",
    "age = current_date - birth_date"
   ]
  },
  {
   "cell_type": "code",
   "execution_count": 87,
   "id": "4f3f51dc-be75-48fb-9a8c-5aed9ff35c0e",
   "metadata": {},
   "outputs": [
    {
     "data": {
      "text/plain": [
       "datetime.timedelta(days=12859, seconds=69803, microseconds=832555)"
      ]
     },
     "execution_count": 87,
     "metadata": {},
     "output_type": "execute_result"
    }
   ],
   "source": [
    "age"
   ]
  },
  {
   "cell_type": "code",
   "execution_count": 88,
   "id": "c57d968a-a229-4e1c-9cec-4e0bfb4eb5a8",
   "metadata": {},
   "outputs": [],
   "source": [
    "# Time-based feature engineering\n",
    "one_day = timedelta(days=1)\n",
    "one_week = timedelta(weeks=1)\n",
    "one_month = timedelta(days=30)  # Approximate\n",
    "one_year = timedelta(days=365)"
   ]
  },
  {
   "cell_type": "code",
   "execution_count": 89,
   "id": "8b2d0d7c-6e80-4d33-893d-18c89636e17c",
   "metadata": {},
   "outputs": [
    {
     "data": {
      "text/plain": [
       "datetime.timedelta(days=1)"
      ]
     },
     "execution_count": 89,
     "metadata": {},
     "output_type": "execute_result"
    }
   ],
   "source": [
    "one_day"
   ]
  },
  {
   "cell_type": "code",
   "execution_count": 90,
   "id": "ab8302f7-84c3-4e91-867a-94b3ec25eb96",
   "metadata": {},
   "outputs": [
    {
     "data": {
      "text/plain": [
       "datetime.timedelta(days=7)"
      ]
     },
     "execution_count": 90,
     "metadata": {},
     "output_type": "execute_result"
    }
   ],
   "source": [
    "one_week"
   ]
  },
  {
   "cell_type": "code",
   "execution_count": 91,
   "id": "584c8a31-1dce-457c-99cf-d3760bba839f",
   "metadata": {},
   "outputs": [
    {
     "data": {
      "text/plain": [
       "datetime.timedelta(days=30)"
      ]
     },
     "execution_count": 91,
     "metadata": {},
     "output_type": "execute_result"
    }
   ],
   "source": [
    "one_month"
   ]
  },
  {
   "cell_type": "code",
   "execution_count": 92,
   "id": "503b922d-f67a-4a32-b0dd-976f4dabec70",
   "metadata": {},
   "outputs": [
    {
     "data": {
      "text/plain": [
       "datetime.timedelta(days=365)"
      ]
     },
     "execution_count": 92,
     "metadata": {},
     "output_type": "execute_result"
    }
   ],
   "source": [
    "one_year"
   ]
  },
  {
   "cell_type": "code",
   "execution_count": 93,
   "id": "98d4d5de-8985-4fbf-817b-b324329966fe",
   "metadata": {},
   "outputs": [],
   "source": [
    "# Calculate future/past dates for analysis windows\n",
    "tomorrow = current_date + one_day\n",
    "last_week = current_date - one_week\n",
    "next_month = current_date + one_month"
   ]
  },
  {
   "cell_type": "code",
   "execution_count": 94,
   "id": "3b6b230d-7eec-4158-b34c-410d2684ec35",
   "metadata": {},
   "outputs": [
    {
     "data": {
      "text/plain": [
       "datetime.datetime(2025, 7, 30, 19, 23, 23, 832555)"
      ]
     },
     "execution_count": 94,
     "metadata": {},
     "output_type": "execute_result"
    }
   ],
   "source": [
    "tomorrow"
   ]
  },
  {
   "cell_type": "code",
   "execution_count": 95,
   "id": "b2f69610-137e-4680-bfb8-50e57b400ec1",
   "metadata": {},
   "outputs": [
    {
     "data": {
      "text/plain": [
       "datetime.datetime(2025, 7, 22, 19, 23, 23, 832555)"
      ]
     },
     "execution_count": 95,
     "metadata": {},
     "output_type": "execute_result"
    }
   ],
   "source": [
    "last_week"
   ]
  },
  {
   "cell_type": "code",
   "execution_count": 96,
   "id": "3fd1753f-40eb-4748-9534-8137381821d6",
   "metadata": {},
   "outputs": [
    {
     "data": {
      "text/plain": [
       "datetime.datetime(2025, 8, 28, 19, 23, 23, 832555)"
      ]
     },
     "execution_count": 96,
     "metadata": {},
     "output_type": "execute_result"
    }
   ],
   "source": [
    "next_month"
   ]
  },
  {
   "cell_type": "code",
   "execution_count": 97,
   "id": "4a8f668c-75fe-41bd-9fa3-8bbeac44aacf",
   "metadata": {},
   "outputs": [
    {
     "name": "stdout",
     "output_type": "stream",
     "text": [
      "Tomorrow: 2025-07-30\n",
      "Last week: 2025-07-22\n",
      "Next month: 2025-08-28\n"
     ]
    }
   ],
   "source": [
    "print(f\"Tomorrow: {tomorrow.date()}\")\n",
    "print(f\"Last week: {last_week.date()}\")\n",
    "print(f\"Next month: {next_month.date()}\")"
   ]
  },
  {
   "cell_type": "code",
   "execution_count": null,
   "id": "843cf6ae-c40d-49a2-ae70-06d131676104",
   "metadata": {},
   "outputs": [],
   "source": []
  },
  {
   "cell_type": "code",
   "execution_count": 98,
   "id": "15f41b57-5c3f-44ea-a8e5-09be42217487",
   "metadata": {},
   "outputs": [],
   "source": [
    "import time"
   ]
  },
  {
   "cell_type": "code",
   "execution_count": 100,
   "id": "b833a00a-143c-4f3c-936d-6c68d0349a33",
   "metadata": {},
   "outputs": [],
   "source": [
    "start_time = datetime.now()"
   ]
  },
  {
   "cell_type": "code",
   "execution_count": 101,
   "id": "4aa5ab5c-4edc-403d-a36a-4496f6c2384e",
   "metadata": {},
   "outputs": [
    {
     "name": "stdout",
     "output_type": "stream",
     "text": [
      "Processing time: 2.294 seconds\n"
     ]
    }
   ],
   "source": [
    "time.sleep(0.10)\n",
    "\n",
    "end_time = datetime.now()\n",
    "processing_duration = end_time - start_time\n",
    "print(f\"Processing time: {processing_duration.total_seconds():.3f} seconds\")"
   ]
  },
  {
   "cell_type": "code",
   "execution_count": null,
   "id": "e7278cd1-0882-4a79-a7a4-652160d47bff",
   "metadata": {},
   "outputs": [],
   "source": []
  },
  {
   "cell_type": "code",
   "execution_count": 102,
   "id": "f0a2bf93-64c8-4869-8914-5d655e4aad0a",
   "metadata": {},
   "outputs": [
    {
     "name": "stdout",
     "output_type": "stream",
     "text": [
      "Timestamp: 1721552400.0\n"
     ]
    }
   ],
   "source": [
    "from datetime import datetime\n",
    "import time\n",
    "\n",
    "# Convert datetime to timestamp (seconds since epoch)\n",
    "dt = datetime(2024, 7, 21, 14, 30, 0)\n",
    "timestamp = dt.timestamp()\n",
    "print(f\"Timestamp: {timestamp}\")"
   ]
  },
  {
   "cell_type": "code",
   "execution_count": null,
   "id": "3603f9b1-a3d6-47e9-a08f-4552fcdae3bb",
   "metadata": {},
   "outputs": [],
   "source": []
  }
 ],
 "metadata": {
  "kernelspec": {
   "display_name": "Python 3 (ipykernel)",
   "language": "python",
   "name": "python3"
  },
  "language_info": {
   "codemirror_mode": {
    "name": "ipython",
    "version": 3
   },
   "file_extension": ".py",
   "mimetype": "text/x-python",
   "name": "python",
   "nbconvert_exporter": "python",
   "pygments_lexer": "ipython3",
   "version": "3.11.7"
  }
 },
 "nbformat": 4,
 "nbformat_minor": 5
}
