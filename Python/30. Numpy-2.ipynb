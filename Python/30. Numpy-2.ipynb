{
 "cells": [
  {
   "cell_type": "code",
   "execution_count": 6,
   "id": "7acc0cb4-01b0-466a-b0a0-7d34f88671c9",
   "metadata": {},
   "outputs": [],
   "source": [
    "import numpy as np"
   ]
  },
  {
   "cell_type": "code",
   "execution_count": 7,
   "id": "664986da-850b-43b5-85fc-7e24e59135ee",
   "metadata": {},
   "outputs": [],
   "source": [
    "angles = np.array([0, np.pi/4, np.pi/2, np.pi])"
   ]
  },
  {
   "cell_type": "code",
   "execution_count": 9,
   "id": "c3b5c6e2-6d35-4ee4-b895-1787b4a55ca4",
   "metadata": {},
   "outputs": [
    {
     "data": {
      "text/plain": [
       "array([0.        , 0.78539816, 1.57079633, 3.14159265])"
      ]
     },
     "execution_count": 9,
     "metadata": {},
     "output_type": "execute_result"
    }
   ],
   "source": [
    "angles"
   ]
  },
  {
   "cell_type": "code",
   "execution_count": 10,
   "id": "b1f15b50-01c5-4a71-9056-3bc54188b7c2",
   "metadata": {},
   "outputs": [
    {
     "data": {
      "text/plain": [
       "array([0.00000000e+00, 7.07106781e-01, 1.00000000e+00, 1.22464680e-16])"
      ]
     },
     "execution_count": 10,
     "metadata": {},
     "output_type": "execute_result"
    }
   ],
   "source": [
    "np.sin(angles)"
   ]
  },
  {
   "cell_type": "code",
   "execution_count": 11,
   "id": "63d101b3-71fd-46ab-a5a3-d5fec719f3bf",
   "metadata": {},
   "outputs": [
    {
     "data": {
      "text/plain": [
       "array([ 1.00000000e+00,  7.07106781e-01,  6.12323400e-17, -1.00000000e+00])"
      ]
     },
     "execution_count": 11,
     "metadata": {},
     "output_type": "execute_result"
    }
   ],
   "source": [
    "np.cos(angles)"
   ]
  },
  {
   "cell_type": "code",
   "execution_count": 12,
   "id": "48f5f9e6-9d06-4c87-9516-27d3d5453c33",
   "metadata": {},
   "outputs": [
    {
     "data": {
      "text/plain": [
       "array([0.00000000e+00, 1.00000000e+00, 1.63312394e+16])"
      ]
     },
     "execution_count": 12,
     "metadata": {},
     "output_type": "execute_result"
    }
   ],
   "source": [
    "np.tan(angles[:3])"
   ]
  },
  {
   "cell_type": "code",
   "execution_count": 13,
   "id": "e3cd322d-b8ad-4649-b926-ae4230d9788f",
   "metadata": {},
   "outputs": [],
   "source": [
    "values = np.array([1, 2, 3, 4])"
   ]
  },
  {
   "cell_type": "code",
   "execution_count": 14,
   "id": "af5a7673-69a1-42d3-b7cb-a0d2eec6061d",
   "metadata": {},
   "outputs": [
    {
     "data": {
      "text/plain": [
       "array([ 2.71828183,  7.3890561 , 20.08553692, 54.59815003])"
      ]
     },
     "execution_count": 14,
     "metadata": {},
     "output_type": "execute_result"
    }
   ],
   "source": [
    "np.exp(values)"
   ]
  },
  {
   "cell_type": "code",
   "execution_count": 15,
   "id": "e51e473c-74f3-4d4a-ac4c-e0052e8e352a",
   "metadata": {},
   "outputs": [
    {
     "data": {
      "text/plain": [
       "array([0.        , 0.69314718, 1.09861229, 1.38629436])"
      ]
     },
     "execution_count": 15,
     "metadata": {},
     "output_type": "execute_result"
    }
   ],
   "source": [
    "np.log(values)"
   ]
  },
  {
   "cell_type": "code",
   "execution_count": 16,
   "id": "acb3b4b3-b01b-454c-b13e-68671b18ac0c",
   "metadata": {},
   "outputs": [
    {
     "data": {
      "text/plain": [
       "array([0.        , 0.30103   , 0.47712125, 0.60205999])"
      ]
     },
     "execution_count": 16,
     "metadata": {},
     "output_type": "execute_result"
    }
   ],
   "source": [
    "np.log10(values)"
   ]
  },
  {
   "cell_type": "code",
   "execution_count": 17,
   "id": "286d12e6-12d1-48ef-aed3-a34b30721e69",
   "metadata": {},
   "outputs": [
    {
     "data": {
      "text/plain": [
       "array([1.        , 1.41421356, 1.73205081, 2.        ])"
      ]
     },
     "execution_count": 17,
     "metadata": {},
     "output_type": "execute_result"
    }
   ],
   "source": [
    "np.sqrt(values)"
   ]
  },
  {
   "cell_type": "code",
   "execution_count": null,
   "id": "de9efe89-4a22-4788-807a-245890ccf37a",
   "metadata": {},
   "outputs": [],
   "source": []
  },
  {
   "cell_type": "code",
   "execution_count": 18,
   "id": "6581356c-7427-44f8-b8fe-c34802b4891f",
   "metadata": {},
   "outputs": [],
   "source": [
    "decimals = np.array([1.234, 2.567, 3.891])"
   ]
  },
  {
   "cell_type": "code",
   "execution_count": 22,
   "id": "c396bb42-5e05-4de7-b3e0-1e00d4cc579f",
   "metadata": {},
   "outputs": [
    {
     "data": {
      "text/plain": [
       "array([1.23, 2.57, 3.89])"
      ]
     },
     "execution_count": 22,
     "metadata": {},
     "output_type": "execute_result"
    }
   ],
   "source": [
    "np.round(decimals, 2)"
   ]
  },
  {
   "cell_type": "code",
   "execution_count": 23,
   "id": "180b188d-0612-4c77-9cc8-c249b430655c",
   "metadata": {},
   "outputs": [
    {
     "data": {
      "text/plain": [
       "array([2., 3., 4.])"
      ]
     },
     "execution_count": 23,
     "metadata": {},
     "output_type": "execute_result"
    }
   ],
   "source": [
    "np.ceil(decimals)"
   ]
  },
  {
   "cell_type": "code",
   "execution_count": 24,
   "id": "ba304ed1-1db9-4f1c-a5f7-3a9a1e944884",
   "metadata": {},
   "outputs": [
    {
     "data": {
      "text/plain": [
       "array([1., 2., 3.])"
      ]
     },
     "execution_count": 24,
     "metadata": {},
     "output_type": "execute_result"
    }
   ],
   "source": [
    "np.floor(decimals)"
   ]
  },
  {
   "cell_type": "code",
   "execution_count": null,
   "id": "379c9897-04f8-458b-8788-5a6e0ca38bb7",
   "metadata": {},
   "outputs": [],
   "source": []
  },
  {
   "cell_type": "code",
   "execution_count": 25,
   "id": "2c57b7cf-8af7-46e5-96c3-dfeefffadccf",
   "metadata": {},
   "outputs": [],
   "source": [
    "arr1 = np.array([[1, 2], [3, 4]])\n",
    "arr2 = np.array([[5, 6], [7, 8]])\n",
    "arr3 = np.array([[9, 10], [11, 12]])"
   ]
  },
  {
   "cell_type": "code",
   "execution_count": 26,
   "id": "f001f576-5d7b-4d73-8e93-44dce259982f",
   "metadata": {},
   "outputs": [],
   "source": [
    "v_stack = np.vstack((arr1, arr2))"
   ]
  },
  {
   "cell_type": "code",
   "execution_count": 27,
   "id": "30212247-2551-4fbf-8cd2-30aa34c23260",
   "metadata": {},
   "outputs": [
    {
     "data": {
      "text/plain": [
       "array([[1, 2],\n",
       "       [3, 4],\n",
       "       [5, 6],\n",
       "       [7, 8]])"
      ]
     },
     "execution_count": 27,
     "metadata": {},
     "output_type": "execute_result"
    }
   ],
   "source": [
    "v_stack"
   ]
  },
  {
   "cell_type": "code",
   "execution_count": 28,
   "id": "60a3f346-e198-489b-8ab9-154e5ed4949c",
   "metadata": {},
   "outputs": [],
   "source": [
    "h_stack = np.hstack((arr1, arr2))"
   ]
  },
  {
   "cell_type": "code",
   "execution_count": 29,
   "id": "c3cb4067-1766-4a3c-a6d2-c117af33acce",
   "metadata": {},
   "outputs": [
    {
     "data": {
      "text/plain": [
       "array([[1, 2, 5, 6],\n",
       "       [3, 4, 7, 8]])"
      ]
     },
     "execution_count": 29,
     "metadata": {},
     "output_type": "execute_result"
    }
   ],
   "source": [
    "h_stack"
   ]
  },
  {
   "cell_type": "code",
   "execution_count": 30,
   "id": "def916fa-7e24-4ee0-808c-e99b19854770",
   "metadata": {},
   "outputs": [],
   "source": [
    "concat_axis0 = np.concatenate((arr1, arr2), axis=0)"
   ]
  },
  {
   "cell_type": "code",
   "execution_count": 31,
   "id": "4a7ed26e-21e8-4eb7-81b5-45bb8f2c0b21",
   "metadata": {},
   "outputs": [
    {
     "data": {
      "text/plain": [
       "array([[1, 2],\n",
       "       [3, 4],\n",
       "       [5, 6],\n",
       "       [7, 8]])"
      ]
     },
     "execution_count": 31,
     "metadata": {},
     "output_type": "execute_result"
    }
   ],
   "source": [
    "concat_axis0"
   ]
  },
  {
   "cell_type": "code",
   "execution_count": 32,
   "id": "d3257138-c9f5-40ab-86fa-8a3af94b1f6f",
   "metadata": {},
   "outputs": [],
   "source": [
    "large_array = np.arange(20).reshape(4, 5)"
   ]
  },
  {
   "cell_type": "code",
   "execution_count": 33,
   "id": "5cdbd49c-b364-4abe-ba75-1604441594dd",
   "metadata": {},
   "outputs": [
    {
     "data": {
      "text/plain": [
       "array([[ 0,  1,  2,  3,  4],\n",
       "       [ 5,  6,  7,  8,  9],\n",
       "       [10, 11, 12, 13, 14],\n",
       "       [15, 16, 17, 18, 19]])"
      ]
     },
     "execution_count": 33,
     "metadata": {},
     "output_type": "execute_result"
    }
   ],
   "source": [
    "large_array"
   ]
  },
  {
   "cell_type": "code",
   "execution_count": 40,
   "id": "05680ea8-c741-466b-b56a-de0a8670c1c7",
   "metadata": {},
   "outputs": [],
   "source": [
    "split_result = np.split(large_array, 2, axis=0) "
   ]
  },
  {
   "cell_type": "code",
   "execution_count": 35,
   "id": "71316b9e-a7c4-428e-964f-668827285b49",
   "metadata": {},
   "outputs": [
    {
     "data": {
      "text/plain": [
       "[array([[0, 1, 2, 3, 4],\n",
       "        [5, 6, 7, 8, 9]]),\n",
       " array([[10, 11, 12, 13, 14],\n",
       "        [15, 16, 17, 18, 19]])]"
      ]
     },
     "execution_count": 35,
     "metadata": {},
     "output_type": "execute_result"
    }
   ],
   "source": [
    "split_result"
   ]
  },
  {
   "cell_type": "code",
   "execution_count": 41,
   "id": "a3ac3a5f-62e9-4e76-8b5f-441fedf1f7d2",
   "metadata": {},
   "outputs": [],
   "source": [
    "split_result = np.split(large_array, 2.5, axis=1) "
   ]
  },
  {
   "cell_type": "code",
   "execution_count": 42,
   "id": "994a65ef-a563-4688-8ba8-1c312f925aa8",
   "metadata": {},
   "outputs": [
    {
     "data": {
      "text/plain": [
       "[array([[ 0,  1,  2],\n",
       "        [ 5,  6,  7],\n",
       "        [10, 11, 12],\n",
       "        [15, 16, 17]]),\n",
       " array([[ 3,  4],\n",
       "        [ 8,  9],\n",
       "        [13, 14],\n",
       "        [18, 19]])]"
      ]
     },
     "execution_count": 42,
     "metadata": {},
     "output_type": "execute_result"
    }
   ],
   "source": [
    "split_result"
   ]
  },
  {
   "cell_type": "code",
   "execution_count": 43,
   "id": "56926062-a8c4-4f5d-a4ca-610aa66f7dce",
   "metadata": {},
   "outputs": [],
   "source": [
    "data_with_missing = np.array([1.0, 2.0, np.nan, 4.0, 5.0, np.inf])"
   ]
  },
  {
   "cell_type": "code",
   "execution_count": 44,
   "id": "c4a27a97-f6db-413c-a6a3-9546e35eef46",
   "metadata": {},
   "outputs": [
    {
     "data": {
      "text/plain": [
       "array([ 1.,  2., nan,  4.,  5., inf])"
      ]
     },
     "execution_count": 44,
     "metadata": {},
     "output_type": "execute_result"
    }
   ],
   "source": [
    "data_with_missing"
   ]
  },
  {
   "cell_type": "code",
   "execution_count": 45,
   "id": "68a70e82-9dd2-4420-b500-9ec37eaa5dc7",
   "metadata": {},
   "outputs": [],
   "source": [
    "masked_data = np.ma.masked_invalid(data_with_missing)"
   ]
  },
  {
   "cell_type": "code",
   "execution_count": 46,
   "id": "44779e0d-66d4-4794-802f-ea32d10741a5",
   "metadata": {},
   "outputs": [
    {
     "data": {
      "text/plain": [
       "masked_array(data=[1.0, 2.0, --, 4.0, 5.0, --],\n",
       "             mask=[False, False,  True, False, False,  True],\n",
       "       fill_value=1e+20)"
      ]
     },
     "execution_count": 46,
     "metadata": {},
     "output_type": "execute_result"
    }
   ],
   "source": [
    "masked_data"
   ]
  },
  {
   "cell_type": "code",
   "execution_count": null,
   "id": "fce8f5d4-9e13-4789-b79c-6bd2af7934dd",
   "metadata": {},
   "outputs": [],
   "source": []
  }
 ],
 "metadata": {
  "kernelspec": {
   "display_name": "Python 3 (ipykernel)",
   "language": "python",
   "name": "python3"
  },
  "language_info": {
   "codemirror_mode": {
    "name": "ipython",
    "version": 3
   },
   "file_extension": ".py",
   "mimetype": "text/x-python",
   "name": "python",
   "nbconvert_exporter": "python",
   "pygments_lexer": "ipython3",
   "version": "3.11.7"
  }
 },
 "nbformat": 4,
 "nbformat_minor": 5
}
