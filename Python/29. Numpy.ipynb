{
 "cells": [
  {
   "cell_type": "code",
   "execution_count": null,
   "id": "895d219b-c170-4cfc-b175-317d865a1c9a",
   "metadata": {},
   "outputs": [],
   "source": [
    "!pip install numpy"
   ]
  },
  {
   "cell_type": "code",
   "execution_count": 1,
   "id": "7bdb1c54-a0a6-4fad-87d2-9783c3acbbbb",
   "metadata": {},
   "outputs": [],
   "source": [
    "import numpy as np"
   ]
  },
  {
   "cell_type": "code",
   "execution_count": 2,
   "id": "5d8ee9d6-4c73-48bc-800e-f2ff0a82d56c",
   "metadata": {},
   "outputs": [],
   "source": [
    "arr_1d = np.array([1, 2, 3, 4, 5])"
   ]
  },
  {
   "cell_type": "code",
   "execution_count": 6,
   "id": "ac658aef-84fc-4679-aa22-8a81d5d7ec32",
   "metadata": {},
   "outputs": [
    {
     "data": {
      "text/plain": [
       "1"
      ]
     },
     "execution_count": 6,
     "metadata": {},
     "output_type": "execute_result"
    }
   ],
   "source": [
    "arr_1d.ndim"
   ]
  },
  {
   "cell_type": "code",
   "execution_count": 4,
   "id": "0fe204c5-86ed-471b-8ec3-30a4e19fdd93",
   "metadata": {},
   "outputs": [],
   "source": [
    "arr_2d = np.array([[1, 2, 3], [4, 5, 6]])"
   ]
  },
  {
   "cell_type": "code",
   "execution_count": 7,
   "id": "c23d7505-aca3-4f14-b177-21570e073461",
   "metadata": {},
   "outputs": [
    {
     "data": {
      "text/plain": [
       "2"
      ]
     },
     "execution_count": 7,
     "metadata": {},
     "output_type": "execute_result"
    }
   ],
   "source": [
    "arr_2d.ndim"
   ]
  },
  {
   "cell_type": "code",
   "execution_count": 8,
   "id": "6ffa25af-a98a-4231-a61f-4ca1b129b95f",
   "metadata": {},
   "outputs": [],
   "source": [
    "arr_2d = np.array([[[1, 2, 3]], [[4, 5, 6]]])"
   ]
  },
  {
   "cell_type": "code",
   "execution_count": 9,
   "id": "2f96c1e5-a16d-415d-97a5-7746f7b1d400",
   "metadata": {},
   "outputs": [
    {
     "data": {
      "text/plain": [
       "3"
      ]
     },
     "execution_count": 9,
     "metadata": {},
     "output_type": "execute_result"
    }
   ],
   "source": [
    "arr_2d.ndim"
   ]
  },
  {
   "cell_type": "code",
   "execution_count": 10,
   "id": "967f9197-b7c3-4ca5-a967-5e07644b302e",
   "metadata": {},
   "outputs": [
    {
     "data": {
      "text/plain": [
       "(5,)"
      ]
     },
     "execution_count": 10,
     "metadata": {},
     "output_type": "execute_result"
    }
   ],
   "source": [
    "arr_1d.shape"
   ]
  },
  {
   "cell_type": "code",
   "execution_count": 11,
   "id": "799fcbb2-5ea1-47bb-bf94-f8d89dfaf6ad",
   "metadata": {},
   "outputs": [],
   "source": [
    "arr_float = np.array([1, 2, 3], dtype=np.float64)"
   ]
  },
  {
   "cell_type": "code",
   "execution_count": 12,
   "id": "71f59158-e310-4bc1-8479-8fe7715e9443",
   "metadata": {},
   "outputs": [
    {
     "data": {
      "text/plain": [
       "array([1., 2., 3.])"
      ]
     },
     "execution_count": 12,
     "metadata": {},
     "output_type": "execute_result"
    }
   ],
   "source": [
    "arr_float"
   ]
  },
  {
   "cell_type": "code",
   "execution_count": 13,
   "id": "be43e2b2-ee63-4510-8d1c-99ead284a0df",
   "metadata": {},
   "outputs": [],
   "source": [
    "zeros_arr = np.zeros((3, 4))"
   ]
  },
  {
   "cell_type": "code",
   "execution_count": 14,
   "id": "4523b3b2-bbb7-445f-99e3-9da62060fb1a",
   "metadata": {},
   "outputs": [
    {
     "data": {
      "text/plain": [
       "array([[0., 0., 0., 0.],\n",
       "       [0., 0., 0., 0.],\n",
       "       [0., 0., 0., 0.]])"
      ]
     },
     "execution_count": 14,
     "metadata": {},
     "output_type": "execute_result"
    }
   ],
   "source": [
    "zeros_arr"
   ]
  },
  {
   "cell_type": "code",
   "execution_count": 15,
   "id": "0f8a2d7f-2922-4bba-8291-507c79346a01",
   "metadata": {},
   "outputs": [],
   "source": [
    "zeros_arr = np.ones((3, 4))"
   ]
  },
  {
   "cell_type": "code",
   "execution_count": 16,
   "id": "1361c17e-1c8a-4680-8dbd-0fb8b3a18960",
   "metadata": {},
   "outputs": [
    {
     "data": {
      "text/plain": [
       "array([[1., 1., 1., 1.],\n",
       "       [1., 1., 1., 1.],\n",
       "       [1., 1., 1., 1.]])"
      ]
     },
     "execution_count": 16,
     "metadata": {},
     "output_type": "execute_result"
    }
   ],
   "source": [
    "zeros_arr"
   ]
  },
  {
   "cell_type": "code",
   "execution_count": 19,
   "id": "44e93f11-23d7-4fd6-9d47-2c24601f5607",
   "metadata": {},
   "outputs": [],
   "source": [
    "zeros_arr = np.eye(3)"
   ]
  },
  {
   "cell_type": "code",
   "execution_count": 20,
   "id": "0c22b240-d2b4-4f9f-ad6b-8d2a1432aad7",
   "metadata": {},
   "outputs": [
    {
     "data": {
      "text/plain": [
       "array([[1., 0., 0.],\n",
       "       [0., 1., 0.],\n",
       "       [0., 0., 1.]])"
      ]
     },
     "execution_count": 20,
     "metadata": {},
     "output_type": "execute_result"
    }
   ],
   "source": [
    "zeros_arr"
   ]
  },
  {
   "cell_type": "code",
   "execution_count": 21,
   "id": "6ee1c42a-e395-4590-8979-6633294b388a",
   "metadata": {},
   "outputs": [],
   "source": [
    "range_arr = np.arange(0, 10, 2)"
   ]
  },
  {
   "cell_type": "code",
   "execution_count": 22,
   "id": "d553cd6a-8c31-49bf-b814-91ceaa175f00",
   "metadata": {},
   "outputs": [
    {
     "data": {
      "text/plain": [
       "array([0, 2, 4, 6, 8])"
      ]
     },
     "execution_count": 22,
     "metadata": {},
     "output_type": "execute_result"
    }
   ],
   "source": [
    "range_arr"
   ]
  },
  {
   "cell_type": "code",
   "execution_count": 25,
   "id": "fcf95f7b-ca55-4f1a-93ba-d8b637de9e57",
   "metadata": {},
   "outputs": [],
   "source": [
    "range_arr = np.arange(100, 0, -10)"
   ]
  },
  {
   "cell_type": "code",
   "execution_count": 26,
   "id": "e785ba16-fe77-415b-9322-7168b04142e3",
   "metadata": {},
   "outputs": [
    {
     "data": {
      "text/plain": [
       "array([100,  90,  80,  70,  60,  50,  40,  30,  20,  10])"
      ]
     },
     "execution_count": 26,
     "metadata": {},
     "output_type": "execute_result"
    }
   ],
   "source": [
    "range_arr"
   ]
  },
  {
   "cell_type": "code",
   "execution_count": 27,
   "id": "d6035baa-36c2-44f5-9c9f-32afcfb3c27c",
   "metadata": {},
   "outputs": [],
   "source": [
    "linspace_arr = np.linspace(0, 1, 5) "
   ]
  },
  {
   "cell_type": "code",
   "execution_count": 28,
   "id": "e4e5f9f4-e550-4758-80b4-14d791ada3e6",
   "metadata": {},
   "outputs": [
    {
     "data": {
      "text/plain": [
       "array([0.  , 0.25, 0.5 , 0.75, 1.  ])"
      ]
     },
     "execution_count": 28,
     "metadata": {},
     "output_type": "execute_result"
    }
   ],
   "source": [
    "linspace_arr"
   ]
  },
  {
   "cell_type": "code",
   "execution_count": 29,
   "id": "b68b0f1d-7d41-4b15-80b2-2ecc64f559c6",
   "metadata": {},
   "outputs": [],
   "source": [
    "linspace_arr = np.linspace(0, 10, 500) "
   ]
  },
  {
   "cell_type": "code",
   "execution_count": 30,
   "id": "e29b55db-9201-4b14-adc6-9d0b6e05f973",
   "metadata": {},
   "outputs": [
    {
     "data": {
      "text/plain": [
       "array([ 0.        ,  0.02004008,  0.04008016,  0.06012024,  0.08016032,\n",
       "        0.1002004 ,  0.12024048,  0.14028056,  0.16032064,  0.18036072,\n",
       "        0.2004008 ,  0.22044088,  0.24048096,  0.26052104,  0.28056112,\n",
       "        0.3006012 ,  0.32064128,  0.34068136,  0.36072144,  0.38076152,\n",
       "        0.4008016 ,  0.42084168,  0.44088176,  0.46092184,  0.48096192,\n",
       "        0.501002  ,  0.52104208,  0.54108216,  0.56112224,  0.58116232,\n",
       "        0.6012024 ,  0.62124248,  0.64128257,  0.66132265,  0.68136273,\n",
       "        0.70140281,  0.72144289,  0.74148297,  0.76152305,  0.78156313,\n",
       "        0.80160321,  0.82164329,  0.84168337,  0.86172345,  0.88176353,\n",
       "        0.90180361,  0.92184369,  0.94188377,  0.96192385,  0.98196393,\n",
       "        1.00200401,  1.02204409,  1.04208417,  1.06212425,  1.08216433,\n",
       "        1.10220441,  1.12224449,  1.14228457,  1.16232465,  1.18236473,\n",
       "        1.20240481,  1.22244489,  1.24248497,  1.26252505,  1.28256513,\n",
       "        1.30260521,  1.32264529,  1.34268537,  1.36272545,  1.38276553,\n",
       "        1.40280561,  1.42284569,  1.44288577,  1.46292585,  1.48296593,\n",
       "        1.50300601,  1.52304609,  1.54308617,  1.56312625,  1.58316633,\n",
       "        1.60320641,  1.62324649,  1.64328657,  1.66332665,  1.68336673,\n",
       "        1.70340681,  1.72344689,  1.74348697,  1.76352705,  1.78356713,\n",
       "        1.80360721,  1.82364729,  1.84368737,  1.86372745,  1.88376754,\n",
       "        1.90380762,  1.9238477 ,  1.94388778,  1.96392786,  1.98396794,\n",
       "        2.00400802,  2.0240481 ,  2.04408818,  2.06412826,  2.08416834,\n",
       "        2.10420842,  2.1242485 ,  2.14428858,  2.16432866,  2.18436874,\n",
       "        2.20440882,  2.2244489 ,  2.24448898,  2.26452906,  2.28456914,\n",
       "        2.30460922,  2.3246493 ,  2.34468938,  2.36472946,  2.38476954,\n",
       "        2.40480962,  2.4248497 ,  2.44488978,  2.46492986,  2.48496994,\n",
       "        2.50501002,  2.5250501 ,  2.54509018,  2.56513026,  2.58517034,\n",
       "        2.60521042,  2.6252505 ,  2.64529058,  2.66533066,  2.68537074,\n",
       "        2.70541082,  2.7254509 ,  2.74549098,  2.76553106,  2.78557114,\n",
       "        2.80561122,  2.8256513 ,  2.84569138,  2.86573146,  2.88577154,\n",
       "        2.90581162,  2.9258517 ,  2.94589178,  2.96593186,  2.98597194,\n",
       "        3.00601202,  3.0260521 ,  3.04609218,  3.06613226,  3.08617234,\n",
       "        3.10621242,  3.12625251,  3.14629259,  3.16633267,  3.18637275,\n",
       "        3.20641283,  3.22645291,  3.24649299,  3.26653307,  3.28657315,\n",
       "        3.30661323,  3.32665331,  3.34669339,  3.36673347,  3.38677355,\n",
       "        3.40681363,  3.42685371,  3.44689379,  3.46693387,  3.48697395,\n",
       "        3.50701403,  3.52705411,  3.54709419,  3.56713427,  3.58717435,\n",
       "        3.60721443,  3.62725451,  3.64729459,  3.66733467,  3.68737475,\n",
       "        3.70741483,  3.72745491,  3.74749499,  3.76753507,  3.78757515,\n",
       "        3.80761523,  3.82765531,  3.84769539,  3.86773547,  3.88777555,\n",
       "        3.90781563,  3.92785571,  3.94789579,  3.96793587,  3.98797595,\n",
       "        4.00801603,  4.02805611,  4.04809619,  4.06813627,  4.08817635,\n",
       "        4.10821643,  4.12825651,  4.14829659,  4.16833667,  4.18837675,\n",
       "        4.20841683,  4.22845691,  4.24849699,  4.26853707,  4.28857715,\n",
       "        4.30861723,  4.32865731,  4.34869739,  4.36873747,  4.38877756,\n",
       "        4.40881764,  4.42885772,  4.4488978 ,  4.46893788,  4.48897796,\n",
       "        4.50901804,  4.52905812,  4.5490982 ,  4.56913828,  4.58917836,\n",
       "        4.60921844,  4.62925852,  4.6492986 ,  4.66933868,  4.68937876,\n",
       "        4.70941884,  4.72945892,  4.749499  ,  4.76953908,  4.78957916,\n",
       "        4.80961924,  4.82965932,  4.8496994 ,  4.86973948,  4.88977956,\n",
       "        4.90981964,  4.92985972,  4.9498998 ,  4.96993988,  4.98997996,\n",
       "        5.01002004,  5.03006012,  5.0501002 ,  5.07014028,  5.09018036,\n",
       "        5.11022044,  5.13026052,  5.1503006 ,  5.17034068,  5.19038076,\n",
       "        5.21042084,  5.23046092,  5.250501  ,  5.27054108,  5.29058116,\n",
       "        5.31062124,  5.33066132,  5.3507014 ,  5.37074148,  5.39078156,\n",
       "        5.41082164,  5.43086172,  5.4509018 ,  5.47094188,  5.49098196,\n",
       "        5.51102204,  5.53106212,  5.5511022 ,  5.57114228,  5.59118236,\n",
       "        5.61122244,  5.63126253,  5.65130261,  5.67134269,  5.69138277,\n",
       "        5.71142285,  5.73146293,  5.75150301,  5.77154309,  5.79158317,\n",
       "        5.81162325,  5.83166333,  5.85170341,  5.87174349,  5.89178357,\n",
       "        5.91182365,  5.93186373,  5.95190381,  5.97194389,  5.99198397,\n",
       "        6.01202405,  6.03206413,  6.05210421,  6.07214429,  6.09218437,\n",
       "        6.11222445,  6.13226453,  6.15230461,  6.17234469,  6.19238477,\n",
       "        6.21242485,  6.23246493,  6.25250501,  6.27254509,  6.29258517,\n",
       "        6.31262525,  6.33266533,  6.35270541,  6.37274549,  6.39278557,\n",
       "        6.41282565,  6.43286573,  6.45290581,  6.47294589,  6.49298597,\n",
       "        6.51302605,  6.53306613,  6.55310621,  6.57314629,  6.59318637,\n",
       "        6.61322645,  6.63326653,  6.65330661,  6.67334669,  6.69338677,\n",
       "        6.71342685,  6.73346693,  6.75350701,  6.77354709,  6.79358717,\n",
       "        6.81362725,  6.83366733,  6.85370741,  6.87374749,  6.89378758,\n",
       "        6.91382766,  6.93386774,  6.95390782,  6.9739479 ,  6.99398798,\n",
       "        7.01402806,  7.03406814,  7.05410822,  7.0741483 ,  7.09418838,\n",
       "        7.11422846,  7.13426854,  7.15430862,  7.1743487 ,  7.19438878,\n",
       "        7.21442886,  7.23446894,  7.25450902,  7.2745491 ,  7.29458918,\n",
       "        7.31462926,  7.33466934,  7.35470942,  7.3747495 ,  7.39478958,\n",
       "        7.41482966,  7.43486974,  7.45490982,  7.4749499 ,  7.49498998,\n",
       "        7.51503006,  7.53507014,  7.55511022,  7.5751503 ,  7.59519038,\n",
       "        7.61523046,  7.63527054,  7.65531062,  7.6753507 ,  7.69539078,\n",
       "        7.71543086,  7.73547094,  7.75551102,  7.7755511 ,  7.79559118,\n",
       "        7.81563126,  7.83567134,  7.85571142,  7.8757515 ,  7.89579158,\n",
       "        7.91583166,  7.93587174,  7.95591182,  7.9759519 ,  7.99599198,\n",
       "        8.01603206,  8.03607214,  8.05611222,  8.0761523 ,  8.09619238,\n",
       "        8.11623246,  8.13627255,  8.15631263,  8.17635271,  8.19639279,\n",
       "        8.21643287,  8.23647295,  8.25651303,  8.27655311,  8.29659319,\n",
       "        8.31663327,  8.33667335,  8.35671343,  8.37675351,  8.39679359,\n",
       "        8.41683367,  8.43687375,  8.45691383,  8.47695391,  8.49699399,\n",
       "        8.51703407,  8.53707415,  8.55711423,  8.57715431,  8.59719439,\n",
       "        8.61723447,  8.63727455,  8.65731463,  8.67735471,  8.69739479,\n",
       "        8.71743487,  8.73747495,  8.75751503,  8.77755511,  8.79759519,\n",
       "        8.81763527,  8.83767535,  8.85771543,  8.87775551,  8.89779559,\n",
       "        8.91783567,  8.93787575,  8.95791583,  8.97795591,  8.99799599,\n",
       "        9.01803607,  9.03807615,  9.05811623,  9.07815631,  9.09819639,\n",
       "        9.11823647,  9.13827655,  9.15831663,  9.17835671,  9.19839679,\n",
       "        9.21843687,  9.23847695,  9.25851703,  9.27855711,  9.29859719,\n",
       "        9.31863727,  9.33867735,  9.35871743,  9.37875752,  9.3987976 ,\n",
       "        9.41883768,  9.43887776,  9.45891784,  9.47895792,  9.498998  ,\n",
       "        9.51903808,  9.53907816,  9.55911824,  9.57915832,  9.5991984 ,\n",
       "        9.61923848,  9.63927856,  9.65931864,  9.67935872,  9.6993988 ,\n",
       "        9.71943888,  9.73947896,  9.75951904,  9.77955912,  9.7995992 ,\n",
       "        9.81963928,  9.83967936,  9.85971944,  9.87975952,  9.8997996 ,\n",
       "        9.91983968,  9.93987976,  9.95991984,  9.97995992, 10.        ])"
      ]
     },
     "execution_count": 30,
     "metadata": {},
     "output_type": "execute_result"
    }
   ],
   "source": [
    "linspace_arr"
   ]
  },
  {
   "cell_type": "code",
   "execution_count": 32,
   "id": "e334ce03-e265-48a3-8e94-9d3cd2ce87f3",
   "metadata": {},
   "outputs": [
    {
     "data": {
      "text/plain": [
       "array([1., 2., 3., 4., 5., 6., 7., 8., 9.])"
      ]
     },
     "execution_count": 32,
     "metadata": {},
     "output_type": "execute_result"
    }
   ],
   "source": [
    "np.linspace(1, 9, 9) "
   ]
  },
  {
   "cell_type": "code",
   "execution_count": 39,
   "id": "324f956a-6e90-4b48-bef0-1c544fdbdd05",
   "metadata": {},
   "outputs": [],
   "source": [
    "random_int = np.random.randint(1, 50, size=(3, 3))"
   ]
  },
  {
   "cell_type": "code",
   "execution_count": 40,
   "id": "d7689eb5-0b79-42b6-8836-110ce81b7c6d",
   "metadata": {},
   "outputs": [
    {
     "data": {
      "text/plain": [
       "array([[ 4, 45, 36],\n",
       "       [38, 20,  7],\n",
       "       [33, 48, 48]])"
      ]
     },
     "execution_count": 40,
     "metadata": {},
     "output_type": "execute_result"
    }
   ],
   "source": [
    "random_int"
   ]
  },
  {
   "cell_type": "code",
   "execution_count": 43,
   "id": "832a1744-63dc-40bd-80d9-bd38fe27832f",
   "metadata": {},
   "outputs": [],
   "source": [
    "random_float = np.random.random((4, 4))"
   ]
  },
  {
   "cell_type": "code",
   "execution_count": 44,
   "id": "b7ef1715-fff2-4fb0-9072-4bc5c79f7122",
   "metadata": {},
   "outputs": [
    {
     "data": {
      "text/plain": [
       "array([[0.80830638, 0.57991717, 0.04868014, 0.18711235],\n",
       "       [0.94462675, 0.13913737, 0.27890363, 0.58986507],\n",
       "       [0.30409758, 0.28392197, 0.7305101 , 0.99509986],\n",
       "       [0.92758027, 0.89469256, 0.60273264, 0.00110991]])"
      ]
     },
     "execution_count": 44,
     "metadata": {},
     "output_type": "execute_result"
    }
   ],
   "source": [
    "random_float"
   ]
  },
  {
   "cell_type": "code",
   "execution_count": 45,
   "id": "ed1cc6cf-b6e3-4f0b-982e-cf01332a898a",
   "metadata": {},
   "outputs": [],
   "source": [
    "normal_dist = np.random.normal(0, 1, (3, 3)) "
   ]
  },
  {
   "cell_type": "code",
   "execution_count": 46,
   "id": "e8eccf3d-94f0-4965-8526-c548f0ed3573",
   "metadata": {},
   "outputs": [
    {
     "data": {
      "text/plain": [
       "array([[-0.1000392 , -0.15199065,  0.59774414],\n",
       "       [-0.20670449, -1.05883005, -0.26840961],\n",
       "       [-1.77395679,  0.11512082,  0.78484613]])"
      ]
     },
     "execution_count": 46,
     "metadata": {},
     "output_type": "execute_result"
    }
   ],
   "source": [
    "normal_dist"
   ]
  },
  {
   "cell_type": "code",
   "execution_count": 51,
   "id": "5c1c6a49-e9fc-4a8d-8e5b-b12910df1391",
   "metadata": {},
   "outputs": [],
   "source": [
    "# Setting seed for reproducibility\n",
    "np.random.seed(42)\n",
    "reproducible = np.random.random(5)"
   ]
  },
  {
   "cell_type": "code",
   "execution_count": 52,
   "id": "fd9307bf-ea39-45c4-b72f-9a7230d46e07",
   "metadata": {},
   "outputs": [
    {
     "data": {
      "text/plain": [
       "array([0.37454012, 0.95071431, 0.73199394, 0.59865848, 0.15601864])"
      ]
     },
     "execution_count": 52,
     "metadata": {},
     "output_type": "execute_result"
    }
   ],
   "source": [
    "reproducible"
   ]
  },
  {
   "cell_type": "code",
   "execution_count": 53,
   "id": "20f03d5e-9a87-4b2e-ab2f-adece44e3507",
   "metadata": {},
   "outputs": [],
   "source": [
    "np.random.seed(25)\n",
    "reproducible = np.random.random(5)"
   ]
  },
  {
   "cell_type": "code",
   "execution_count": 54,
   "id": "816206b9-baa7-43f8-aa56-d4188c6977f9",
   "metadata": {},
   "outputs": [
    {
     "data": {
      "text/plain": [
       "array([0.87012414, 0.58227693, 0.27883894, 0.18591123, 0.41110013])"
      ]
     },
     "execution_count": 54,
     "metadata": {},
     "output_type": "execute_result"
    }
   ],
   "source": [
    "reproducible"
   ]
  },
  {
   "cell_type": "code",
   "execution_count": 55,
   "id": "96bfb88c-dd5d-4b47-856b-72ec9f6556df",
   "metadata": {},
   "outputs": [],
   "source": [
    "sample_array = np.array([[1, 2, 3, 4], [5, 6, 7, 8], [9, 10, 11, 12]])"
   ]
  },
  {
   "cell_type": "code",
   "execution_count": 56,
   "id": "0d7aaca6-bcb4-4309-989f-c7e58ae9012a",
   "metadata": {},
   "outputs": [
    {
     "data": {
      "text/plain": [
       "array([[ 1,  2,  3,  4],\n",
       "       [ 5,  6,  7,  8],\n",
       "       [ 9, 10, 11, 12]])"
      ]
     },
     "execution_count": 56,
     "metadata": {},
     "output_type": "execute_result"
    }
   ],
   "source": [
    "sample_array"
   ]
  },
  {
   "cell_type": "code",
   "execution_count": 57,
   "id": "9511fc51-883a-405d-ae63-6559d558fa28",
   "metadata": {},
   "outputs": [
    {
     "data": {
      "text/plain": [
       "(3, 4)"
      ]
     },
     "execution_count": 57,
     "metadata": {},
     "output_type": "execute_result"
    }
   ],
   "source": [
    "sample_array.shape"
   ]
  },
  {
   "cell_type": "code",
   "execution_count": 58,
   "id": "7e34c5e0-83cb-44fa-b6a4-ccccbc60ed73",
   "metadata": {},
   "outputs": [
    {
     "data": {
      "text/plain": [
       "dtype('int32')"
      ]
     },
     "execution_count": 58,
     "metadata": {},
     "output_type": "execute_result"
    }
   ],
   "source": [
    "sample_array.dtype"
   ]
  },
  {
   "cell_type": "code",
   "execution_count": 59,
   "id": "0a437936-6278-4e12-bb9b-082d434aa544",
   "metadata": {},
   "outputs": [
    {
     "data": {
      "text/plain": [
       "2"
      ]
     },
     "execution_count": 59,
     "metadata": {},
     "output_type": "execute_result"
    }
   ],
   "source": [
    "sample_array.ndim"
   ]
  },
  {
   "cell_type": "code",
   "execution_count": 60,
   "id": "60a74d4c-94f0-43a0-9e87-0c31485e3a85",
   "metadata": {},
   "outputs": [
    {
     "data": {
      "text/plain": [
       "12"
      ]
     },
     "execution_count": 60,
     "metadata": {},
     "output_type": "execute_result"
    }
   ],
   "source": [
    "sample_array.size"
   ]
  },
  {
   "cell_type": "code",
   "execution_count": 61,
   "id": "08a8e07c-dc48-4448-b522-0af0b76b4c1d",
   "metadata": {},
   "outputs": [
    {
     "data": {
      "text/plain": [
       "4"
      ]
     },
     "execution_count": 61,
     "metadata": {},
     "output_type": "execute_result"
    }
   ],
   "source": [
    "sample_array.itemsize"
   ]
  },
  {
   "cell_type": "code",
   "execution_count": 62,
   "id": "17de82e3-3b55-45f8-80f9-f4eb4c4acf7e",
   "metadata": {},
   "outputs": [],
   "source": [
    "arr_1d = np.array([10, 20, 30, 40, 50])"
   ]
  },
  {
   "cell_type": "code",
   "execution_count": 63,
   "id": "e24602ea-9c15-4e17-a040-90785f84af48",
   "metadata": {},
   "outputs": [],
   "source": [
    "arr_2d = np.array([[1, 2, 3], [4, 5, 6], [7, 8, 9]])"
   ]
  },
  {
   "cell_type": "code",
   "execution_count": 64,
   "id": "a0f2b566-a9e9-47fc-85c6-682089a4b8e9",
   "metadata": {},
   "outputs": [],
   "source": [
    "data = np.array([1, 2, 3, 4, 5, 6, 7, 8, 9, 10])"
   ]
  },
  {
   "cell_type": "code",
   "execution_count": 65,
   "id": "405a29ab-57f9-4942-a339-beda1ab0e604",
   "metadata": {},
   "outputs": [
    {
     "data": {
      "text/plain": [
       "array([False, False, False, False, False,  True,  True,  True,  True,\n",
       "        True])"
      ]
     },
     "execution_count": 65,
     "metadata": {},
     "output_type": "execute_result"
    }
   ],
   "source": [
    "data > 5"
   ]
  },
  {
   "cell_type": "code",
   "execution_count": 66,
   "id": "a261eec3-fed4-49bd-b447-b605f4486b57",
   "metadata": {},
   "outputs": [
    {
     "data": {
      "text/plain": [
       "array([False, False, False,  True,  True,  True,  True, False, False,\n",
       "       False])"
      ]
     },
     "execution_count": 66,
     "metadata": {},
     "output_type": "execute_result"
    }
   ],
   "source": [
    "(data > 3) & (data < 8)"
   ]
  },
  {
   "cell_type": "code",
   "execution_count": 68,
   "id": "bb01c093-900a-49c7-9eda-aa5925c1c2e5",
   "metadata": {},
   "outputs": [
    {
     "data": {
      "text/plain": [
       "array([[-1.98428727, -1.24691378, -1.69755329],\n",
       "       [-0.13480646, -0.98481114, -1.16428862],\n",
       "       [ 0.29431477, -2.03384566,  0.24224829]])"
      ]
     },
     "execution_count": 68,
     "metadata": {},
     "output_type": "execute_result"
    }
   ],
   "source": [
    "np.random.randn(3, 3)"
   ]
  },
  {
   "cell_type": "code",
   "execution_count": 69,
   "id": "456df920-be36-455b-b1d8-736ec306e16b",
   "metadata": {},
   "outputs": [],
   "source": [
    "original = np.arange(12) "
   ]
  },
  {
   "cell_type": "code",
   "execution_count": 71,
   "id": "5bd90603-8b53-4846-97ff-424aa4b3266d",
   "metadata": {},
   "outputs": [
    {
     "data": {
      "text/plain": [
       "array([[ 0,  1,  2,  3],\n",
       "       [ 4,  5,  6,  7],\n",
       "       [ 8,  9, 10, 11]])"
      ]
     },
     "execution_count": 71,
     "metadata": {},
     "output_type": "execute_result"
    }
   ],
   "source": [
    "original.reshape(3,4)"
   ]
  },
  {
   "cell_type": "code",
   "execution_count": 73,
   "id": "9d259216-db30-4c33-b2e0-5b8e690be4e8",
   "metadata": {},
   "outputs": [
    {
     "data": {
      "text/plain": [
       "array([[1, 2, 3, 4, 5, 6, 7, 8, 9]])"
      ]
     },
     "execution_count": 73,
     "metadata": {},
     "output_type": "execute_result"
    }
   ],
   "source": [
    "arr_2d.reshape(1,9)"
   ]
  },
  {
   "cell_type": "code",
   "execution_count": 74,
   "id": "70f90ca6-e9e6-4e77-ad4a-35388406ad8c",
   "metadata": {},
   "outputs": [
    {
     "data": {
      "text/plain": [
       "array([[1],\n",
       "       [2],\n",
       "       [3],\n",
       "       [4],\n",
       "       [5],\n",
       "       [6],\n",
       "       [7],\n",
       "       [8],\n",
       "       [9]])"
      ]
     },
     "execution_count": 74,
     "metadata": {},
     "output_type": "execute_result"
    }
   ],
   "source": [
    "arr_2d.reshape(9,1)"
   ]
  },
  {
   "cell_type": "code",
   "execution_count": 76,
   "id": "2a977b3c-dffd-435c-9b8f-4bcdd2200d71",
   "metadata": {},
   "outputs": [
    {
     "data": {
      "text/plain": [
       "array([1, 2, 3, 4, 5, 6, 7, 8, 9])"
      ]
     },
     "execution_count": 76,
     "metadata": {},
     "output_type": "execute_result"
    }
   ],
   "source": [
    "arr_2d.flatten()"
   ]
  },
  {
   "cell_type": "code",
   "execution_count": 77,
   "id": "82efca8a-11e2-4bb7-aec5-f21375ff2cca",
   "metadata": {},
   "outputs": [
    {
     "data": {
      "text/plain": [
       "array([[[[[[[[1, 2, 3, 4, 5]]]]]]]])"
      ]
     },
     "execution_count": 77,
     "metadata": {},
     "output_type": "execute_result"
    }
   ],
   "source": [
    "np.array([1, 2, 3, 4, 5],ndmin=8)"
   ]
  },
  {
   "cell_type": "code",
   "execution_count": 78,
   "id": "cf15c7d6-03bb-46c0-b610-ef3c0a6c8370",
   "metadata": {},
   "outputs": [
    {
     "data": {
      "text/plain": [
       "array([[1, 4, 7],\n",
       "       [2, 5, 8],\n",
       "       [3, 6, 9]])"
      ]
     },
     "execution_count": 78,
     "metadata": {},
     "output_type": "execute_result"
    }
   ],
   "source": [
    "arr_2d.T"
   ]
  },
  {
   "cell_type": "code",
   "execution_count": 79,
   "id": "2815ad40-6ee1-4174-bba5-1c61e030b993",
   "metadata": {},
   "outputs": [
    {
     "data": {
      "text/plain": [
       "5.0"
      ]
     },
     "execution_count": 79,
     "metadata": {},
     "output_type": "execute_result"
    }
   ],
   "source": [
    "arr_2d.mean()"
   ]
  },
  {
   "cell_type": "code",
   "execution_count": 80,
   "id": "3dedbf7a-1abc-412f-a819-2c89be27a8a7",
   "metadata": {},
   "outputs": [
    {
     "data": {
      "text/plain": [
       "9"
      ]
     },
     "execution_count": 80,
     "metadata": {},
     "output_type": "execute_result"
    }
   ],
   "source": [
    "arr_2d.max()"
   ]
  },
  {
   "cell_type": "code",
   "execution_count": 82,
   "id": "6ce94263-1214-4872-9288-d524531d3999",
   "metadata": {},
   "outputs": [
    {
     "data": {
      "text/plain": [
       "array([ 9, 10, 11, 12])"
      ]
     },
     "execution_count": 82,
     "metadata": {},
     "output_type": "execute_result"
    }
   ],
   "source": [
    "sample_array[2]"
   ]
  },
  {
   "cell_type": "code",
   "execution_count": 83,
   "id": "e86fcb6d-d76e-4f1a-807b-3b77cb93f54f",
   "metadata": {},
   "outputs": [
    {
     "data": {
      "text/plain": [
       "array([[ 1,  2,  3,  4],\n",
       "       [ 5,  6,  7,  8],\n",
       "       [ 9, 10, 11, 12]])"
      ]
     },
     "execution_count": 83,
     "metadata": {},
     "output_type": "execute_result"
    }
   ],
   "source": [
    "sample_array"
   ]
  },
  {
   "cell_type": "code",
   "execution_count": 85,
   "id": "f4eb2c2f-592c-4d5d-83ae-c31dfcfe2e0f",
   "metadata": {},
   "outputs": [
    {
     "data": {
      "text/plain": [
       "array([ 3,  7, 11])"
      ]
     },
     "execution_count": 85,
     "metadata": {},
     "output_type": "execute_result"
    }
   ],
   "source": [
    "sample_array[:,2]"
   ]
  },
  {
   "cell_type": "code",
   "execution_count": 86,
   "id": "b5e20078-918f-4651-b0f3-baf33cdf6cce",
   "metadata": {},
   "outputs": [
    {
     "data": {
      "text/plain": [
       "array([[1],\n",
       "       [5]])"
      ]
     },
     "execution_count": 86,
     "metadata": {},
     "output_type": "execute_result"
    }
   ],
   "source": [
    "sample_array[:2,:1]"
   ]
  },
  {
   "cell_type": "code",
   "execution_count": 87,
   "id": "e0729beb-2edb-4680-b9a9-9b15bcbab62a",
   "metadata": {},
   "outputs": [
    {
     "data": {
      "text/plain": [
       "6.5"
      ]
     },
     "execution_count": 87,
     "metadata": {},
     "output_type": "execute_result"
    }
   ],
   "source": [
    "sample_array.mean()"
   ]
  },
  {
   "cell_type": "code",
   "execution_count": 88,
   "id": "6b619811-877d-485f-b785-6eac6d24073c",
   "metadata": {},
   "outputs": [
    {
     "data": {
      "text/plain": [
       "array([ 2.5,  6.5, 10.5])"
      ]
     },
     "execution_count": 88,
     "metadata": {},
     "output_type": "execute_result"
    }
   ],
   "source": [
    "sample_array.mean(axis=1)"
   ]
  },
  {
   "cell_type": "code",
   "execution_count": 89,
   "id": "e5896606-0f67-4156-9c3e-c7356d76f4ee",
   "metadata": {},
   "outputs": [
    {
     "data": {
      "text/plain": [
       "array([[ 1,  2,  3,  4],\n",
       "       [ 5,  6,  7,  8],\n",
       "       [ 9, 10, 11, 12]])"
      ]
     },
     "execution_count": 89,
     "metadata": {},
     "output_type": "execute_result"
    }
   ],
   "source": [
    "sample_array"
   ]
  },
  {
   "cell_type": "code",
   "execution_count": 90,
   "id": "888862f9-a237-4d90-95a3-3468daec7dfd",
   "metadata": {},
   "outputs": [
    {
     "data": {
      "text/plain": [
       "array([5., 6., 7., 8.])"
      ]
     },
     "execution_count": 90,
     "metadata": {},
     "output_type": "execute_result"
    }
   ],
   "source": [
    "sample_array.mean(axis=0)"
   ]
  },
  {
   "cell_type": "code",
   "execution_count": 91,
   "id": "c9c4e2ff-7663-4e15-9a73-b31ff944fb90",
   "metadata": {},
   "outputs": [],
   "source": [
    "a = np.array([1, 2, 3, 4])\n",
    "b = np.array([5, 6, 7, 8])"
   ]
  },
  {
   "cell_type": "code",
   "execution_count": 92,
   "id": "39d61399-71ac-4ab5-84d4-887f20691d64",
   "metadata": {},
   "outputs": [
    {
     "data": {
      "text/plain": [
       "array([1, 2, 3, 4])"
      ]
     },
     "execution_count": 92,
     "metadata": {},
     "output_type": "execute_result"
    }
   ],
   "source": [
    "a"
   ]
  },
  {
   "cell_type": "code",
   "execution_count": 93,
   "id": "034e32f6-9ddf-4897-b1b5-b016a803bc52",
   "metadata": {},
   "outputs": [
    {
     "data": {
      "text/plain": [
       "array([2, 4, 6, 8])"
      ]
     },
     "execution_count": 93,
     "metadata": {},
     "output_type": "execute_result"
    }
   ],
   "source": [
    "a*2"
   ]
  },
  {
   "cell_type": "code",
   "execution_count": 94,
   "id": "c97a76cf-9121-4192-b4c1-f37ef1ce5704",
   "metadata": {},
   "outputs": [
    {
     "data": {
      "text/plain": [
       "array([ 6,  8, 10, 12])"
      ]
     },
     "execution_count": 94,
     "metadata": {},
     "output_type": "execute_result"
    }
   ],
   "source": [
    "a+b"
   ]
  },
  {
   "cell_type": "code",
   "execution_count": 95,
   "id": "993752fb-4ecc-4614-bc9f-fda2ab293e79",
   "metadata": {},
   "outputs": [
    {
     "data": {
      "text/plain": [
       "array([ 5, 12, 21, 32])"
      ]
     },
     "execution_count": 95,
     "metadata": {},
     "output_type": "execute_result"
    }
   ],
   "source": [
    "a*b"
   ]
  },
  {
   "cell_type": "code",
   "execution_count": 96,
   "id": "b9307c3a-13a2-4554-b17a-4b96eaa52f75",
   "metadata": {},
   "outputs": [
    {
     "data": {
      "text/plain": [
       "array([5.        , 3.        , 2.33333333, 2.        ])"
      ]
     },
     "execution_count": 96,
     "metadata": {},
     "output_type": "execute_result"
    }
   ],
   "source": [
    "b/a"
   ]
  },
  {
   "cell_type": "code",
   "execution_count": 97,
   "id": "e1c129a2-46ef-4753-a78e-afeaa883decb",
   "metadata": {},
   "outputs": [
    {
     "data": {
      "text/plain": [
       "array([ 1,  8, 27, 64], dtype=int32)"
      ]
     },
     "execution_count": 97,
     "metadata": {},
     "output_type": "execute_result"
    }
   ],
   "source": [
    "a**3"
   ]
  },
  {
   "cell_type": "code",
   "execution_count": 98,
   "id": "8e5cbae7-6336-4532-b018-4e17111aff70",
   "metadata": {},
   "outputs": [
    {
     "data": {
      "text/plain": [
       "array([4, 4, 4, 4])"
      ]
     },
     "execution_count": 98,
     "metadata": {},
     "output_type": "execute_result"
    }
   ],
   "source": [
    "b-a"
   ]
  },
  {
   "cell_type": "code",
   "execution_count": 99,
   "id": "86afb8ba-e87e-4da2-a883-8ca76b955c03",
   "metadata": {},
   "outputs": [
    {
     "data": {
      "text/plain": [
       "70"
      ]
     },
     "execution_count": 99,
     "metadata": {},
     "output_type": "execute_result"
    }
   ],
   "source": [
    "a.dot(b)"
   ]
  },
  {
   "cell_type": "code",
   "execution_count": null,
   "id": "56b5c1d5-94a3-48aa-814b-b3a12df9b3af",
   "metadata": {},
   "outputs": [],
   "source": []
  }
 ],
 "metadata": {
  "kernelspec": {
   "display_name": "Python 3 (ipykernel)",
   "language": "python",
   "name": "python3"
  },
  "language_info": {
   "codemirror_mode": {
    "name": "ipython",
    "version": 3
   },
   "file_extension": ".py",
   "mimetype": "text/x-python",
   "name": "python",
   "nbconvert_exporter": "python",
   "pygments_lexer": "ipython3",
   "version": "3.11.7"
  }
 },
 "nbformat": 4,
 "nbformat_minor": 5
}
