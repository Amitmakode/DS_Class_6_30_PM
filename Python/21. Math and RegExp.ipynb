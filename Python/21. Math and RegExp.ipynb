{
 "cells": [
  {
   "cell_type": "code",
   "execution_count": 1,
   "id": "a648b7f2-352b-4456-a1ff-b972592dd77a",
   "metadata": {},
   "outputs": [],
   "source": [
    "import math "
   ]
  },
  {
   "cell_type": "code",
   "execution_count": 2,
   "id": "15967379-b685-4bc6-b082-671ec3c78426",
   "metadata": {},
   "outputs": [
    {
     "data": {
      "text/plain": [
       "120"
      ]
     },
     "execution_count": 2,
     "metadata": {},
     "output_type": "execute_result"
    }
   ],
   "source": [
    "math.comb(10, 3)"
   ]
  },
  {
   "cell_type": "code",
   "execution_count": 3,
   "id": "571d17ca-9f81-40cc-a291-2a05175b1a20",
   "metadata": {},
   "outputs": [
    {
     "data": {
      "text/plain": [
       "720"
      ]
     },
     "execution_count": 3,
     "metadata": {},
     "output_type": "execute_result"
    }
   ],
   "source": [
    "math.perm(10,3)"
   ]
  },
  {
   "cell_type": "code",
   "execution_count": 4,
   "id": "d02327c5-ec5b-4744-b160-2850fadf3f89",
   "metadata": {},
   "outputs": [
    {
     "data": {
      "text/plain": [
       "40"
      ]
     },
     "execution_count": 4,
     "metadata": {},
     "output_type": "execute_result"
    }
   ],
   "source": [
    "math.lcm(10,20,40)"
   ]
  },
  {
   "cell_type": "code",
   "execution_count": 5,
   "id": "c0ddd0ba-209d-410c-a4f0-3392e6b10faa",
   "metadata": {},
   "outputs": [
    {
     "data": {
      "text/plain": [
       "120"
      ]
     },
     "execution_count": 5,
     "metadata": {},
     "output_type": "execute_result"
    }
   ],
   "source": [
    "math.factorial(5)"
   ]
  },
  {
   "cell_type": "code",
   "execution_count": 6,
   "id": "645a8030-4e37-4aca-9109-3e36b394e005",
   "metadata": {},
   "outputs": [
    {
     "data": {
      "text/plain": [
       "4.58257569495584"
      ]
     },
     "execution_count": 6,
     "metadata": {},
     "output_type": "execute_result"
    }
   ],
   "source": [
    "math.sqrt(21)"
   ]
  },
  {
   "cell_type": "code",
   "execution_count": 7,
   "id": "41e4fc6e-6dc2-4b22-a847-06ac809f883c",
   "metadata": {},
   "outputs": [
    {
     "data": {
      "text/plain": [
       "3.141592653589793"
      ]
     },
     "execution_count": 7,
     "metadata": {},
     "output_type": "execute_result"
    }
   ],
   "source": [
    "math.pi"
   ]
  },
  {
   "cell_type": "code",
   "execution_count": 8,
   "id": "d42c1ea2-6bc4-490f-8d0c-57d322b4359b",
   "metadata": {},
   "outputs": [
    {
     "data": {
      "text/plain": [
       "11"
      ]
     },
     "execution_count": 8,
     "metadata": {},
     "output_type": "execute_result"
    }
   ],
   "source": [
    "math.ceil(10.09)"
   ]
  },
  {
   "cell_type": "code",
   "execution_count": 9,
   "id": "4021b0a2-5c59-412d-9f17-8d5b83e75dc6",
   "metadata": {},
   "outputs": [
    {
     "data": {
      "text/plain": [
       "10"
      ]
     },
     "execution_count": 9,
     "metadata": {},
     "output_type": "execute_result"
    }
   ],
   "source": [
    "math.floor(10.99)"
   ]
  },
  {
   "cell_type": "code",
   "execution_count": 10,
   "id": "32db8643-3781-44df-857f-dbc6dea18e0e",
   "metadata": {},
   "outputs": [
    {
     "data": {
      "text/plain": [
       "32.0"
      ]
     },
     "execution_count": 10,
     "metadata": {},
     "output_type": "execute_result"
    }
   ],
   "source": [
    "math.pow(2, 5)"
   ]
  },
  {
   "cell_type": "code",
   "execution_count": 11,
   "id": "eb201cb2-b6d0-4a16-be25-eb87e3b45868",
   "metadata": {},
   "outputs": [
    {
     "data": {
      "text/plain": [
       "0.7853981633974483"
      ]
     },
     "execution_count": 11,
     "metadata": {},
     "output_type": "execute_result"
    }
   ],
   "source": [
    "math.radians(45)"
   ]
  },
  {
   "cell_type": "code",
   "execution_count": null,
   "id": "b13895f2-306e-47cb-a1b3-49c996d1e695",
   "metadata": {},
   "outputs": [],
   "source": []
  },
  {
   "cell_type": "markdown",
   "id": "36465231-4c07-4e0d-a484-016d71381817",
   "metadata": {},
   "source": [
    "#### Regular expressions (regex) are **pattern-matching tools** that help you find and clean text data. Think of regex as a way to describe what you're looking for in text.\n",
    "\n",
    "## Why You Need Regex in Data Science\n",
    "\n",
    "- **Find specific text** in messy data\n",
    "- **Clean inconsistent data** formats\n",
    "- **Extract information** from text automatically"
   ]
  },
  {
   "cell_type": "code",
   "execution_count": null,
   "id": "79215ffd-0010-49b0-8d42-c6456cefb980",
   "metadata": {},
   "outputs": [],
   "source": []
  },
  {
   "cell_type": "code",
   "execution_count": null,
   "id": "59d72e04-74d3-4f7e-80f1-770ac3b1dd8e",
   "metadata": {},
   "outputs": [],
   "source": []
  },
  {
   "cell_type": "code",
   "execution_count": 13,
   "id": "224421be-9b9c-44de-8d37-e4031b07b05b",
   "metadata": {},
   "outputs": [],
   "source": [
    "import re"
   ]
  },
  {
   "cell_type": "code",
   "execution_count": 19,
   "id": "20887ace-bb5e-45f2-8302-e0c949e4947f",
   "metadata": {},
   "outputs": [
    {
     "name": "stdout",
     "output_type": "stream",
     "text": [
      "<re.Match object; span=(0, 17), match='The rain in Spain'>\n"
     ]
    }
   ],
   "source": [
    "txt = \"The rain in Spain\"\n",
    "\n",
    "x = re.search(\"^The.*Spain$\", txt)\n",
    "\n",
    "print(x)"
   ]
  },
  {
   "cell_type": "code",
   "execution_count": 21,
   "id": "0c87fe91-cd4e-4a8e-bf1e-125bfaa3400a",
   "metadata": {},
   "outputs": [
    {
     "name": "stdout",
     "output_type": "stream",
     "text": [
      "['ai', 'ai']\n"
     ]
    }
   ],
   "source": [
    "txt = \"The rain in AI Spain\"\n",
    "\n",
    "\n",
    "x = re.findall(\"ai\", txt)\n",
    "print(x)"
   ]
  },
  {
   "cell_type": "code",
   "execution_count": 22,
   "id": "d54bf7a2-4184-4ef9-914a-c00555f836ae",
   "metadata": {},
   "outputs": [],
   "source": [
    "txt = \"The rain in Spain\"\n",
    "\n",
    "x = re.search(\"\\s\", txt)\n"
   ]
  },
  {
   "cell_type": "code",
   "execution_count": 23,
   "id": "c8c6cf7c-fee0-43c8-b3d3-f5a9d4a29ee9",
   "metadata": {},
   "outputs": [
    {
     "data": {
      "text/plain": [
       "<re.Match object; span=(3, 4), match=' '>"
      ]
     },
     "execution_count": 23,
     "metadata": {},
     "output_type": "execute_result"
    }
   ],
   "source": [
    "x"
   ]
  },
  {
   "cell_type": "code",
   "execution_count": 24,
   "id": "75ae53ac-4095-45d3-aedf-998ce79fda48",
   "metadata": {},
   "outputs": [
    {
     "name": "stdout",
     "output_type": "stream",
     "text": [
      "The first white-space character is located in position: 3\n"
     ]
    }
   ],
   "source": [
    "print(\"The first white-space character is located in position:\", x.start())"
   ]
  },
  {
   "cell_type": "code",
   "execution_count": 25,
   "id": "d4a60824-d4ed-4fa0-a49e-fcc280f0434e",
   "metadata": {},
   "outputs": [
    {
     "name": "stdout",
     "output_type": "stream",
     "text": [
      "['The', 'rain', 'in', 'Spain']\n"
     ]
    }
   ],
   "source": [
    "txt = \"The rain in Spain\"\n",
    "x = re.split(\"\\s\", txt)\n",
    "print(x)\n"
   ]
  },
  {
   "cell_type": "code",
   "execution_count": 29,
   "id": "321c5175-1fb7-441c-9199-d6d91aebe2a8",
   "metadata": {},
   "outputs": [
    {
     "name": "stdout",
     "output_type": "stream",
     "text": [
      "['The', 'rain in Spain']\n"
     ]
    }
   ],
   "source": [
    "txt = \"The rain in Spain\"\n",
    "x = re.split(\"\\s\", txt, 1)\n",
    "print(x)"
   ]
  },
  {
   "cell_type": "code",
   "execution_count": 30,
   "id": "8be9b993-3994-49e1-ac7e-4b593939edfe",
   "metadata": {},
   "outputs": [
    {
     "name": "stdout",
     "output_type": "stream",
     "text": [
      "The9rain9in9Spain\n"
     ]
    }
   ],
   "source": [
    "txt = \"The rain in Spain\"\n",
    "\n",
    "x = re.sub(\"\\s\", \"9\", txt)\n",
    "print(x)"
   ]
  },
  {
   "cell_type": "code",
   "execution_count": 31,
   "id": "91b248c2-e94a-472f-848b-936ab1158dda",
   "metadata": {},
   "outputs": [
    {
     "name": "stdout",
     "output_type": "stream",
     "text": [
      "The9rain9in Spain\n"
     ]
    }
   ],
   "source": [
    "txt = \"The rain in Spain\"\n",
    "x = re.sub(\"\\s\", \"9\", txt, 2)\n",
    "print(x)"
   ]
  },
  {
   "cell_type": "code",
   "execution_count": 32,
   "id": "7e1a65bc-658b-42bc-803f-c3388b418c11",
   "metadata": {},
   "outputs": [
    {
     "name": "stdout",
     "output_type": "stream",
     "text": [
      "(12, 17)\n"
     ]
    }
   ],
   "source": [
    "txt = \"The rain in Spain\"\n",
    "\n",
    "\n",
    "x = re.search(r\"\\bS\\w+\", txt)\n",
    "print(x.span())\n",
    "\n",
    "# Raw String = r\"\\bS\\w+\""
   ]
  },
  {
   "cell_type": "code",
   "execution_count": 36,
   "id": "3cc9bbd6-5d69-4e5b-9776-6f1cf1ace961",
   "metadata": {},
   "outputs": [
    {
     "name": "stdout",
     "output_type": "stream",
     "text": [
      "The rain in Spain\n"
     ]
    }
   ],
   "source": [
    "txt = \"The rain in Spain\"\n",
    "\n",
    "x = re.search(r\"\\bS\\w+\", txt)\n",
    "print(x.string)"
   ]
  },
  {
   "cell_type": "code",
   "execution_count": 34,
   "id": "ba98ad03-eb1b-4c55-bf41-cd3628ddd7fe",
   "metadata": {},
   "outputs": [
    {
     "name": "stdout",
     "output_type": "stream",
     "text": [
      "Spain\n"
     ]
    }
   ],
   "source": [
    "txt = \"The rain in Spain\"\n",
    "\n",
    "x = re.search(r\"\\bS\\w+\", txt)\n",
    "\n",
    "print(x.group())"
   ]
  },
  {
   "cell_type": "code",
   "execution_count": 38,
   "id": "c556570c-4c0a-47cd-9409-4efab686099d",
   "metadata": {},
   "outputs": [
    {
     "name": "stdout",
     "output_type": "stream",
     "text": [
      "['support@example.com', 'sales@mydomain.org', 'sales123@mydomain.org']\n"
     ]
    }
   ],
   "source": [
    "text = \"Contact us at support@example.com or sales@mydomain.org, sales123@mydomain.org\"\n",
    "emails = re.findall(r'\\b[\\w.-]+@[\\w.-]+\\.\\w+\\b', text)\n",
    "print(emails)\n",
    "\n",
    "# r'\\b\\w+@\\w+\\.\\w+'\n",
    "# OR\n",
    "# '\\\\b\\\\w+@\\\\w+\\\\.\\\\w+' r\"\\b[\\w.-]+@[\\w.-]+\\.\\w+\\b\""
   ]
  },
  {
   "cell_type": "code",
   "execution_count": 41,
   "id": "bae1e044-5ca3-4052-aa98-39645e01da2f",
   "metadata": {},
   "outputs": [
    {
     "name": "stdout",
     "output_type": "stream",
     "text": [
      "True\n"
     ]
    }
   ],
   "source": [
    "# Validate if a String is a Strong Password\n",
    "password = \"My$tr0ngP@ss\"\n",
    "pattern = r'^(?=.*[A-Z])(?=.*[a-z])(?=.*\\d)(?=.*[@$#]).{8,}$'\n",
    "print(bool(re.match(pattern, password)))\n",
    "\n",
    "#Checks for uppercase, lowercase, digit, special character, and min length."
   ]
  },
  {
   "cell_type": "markdown",
   "id": "1713dd55-bea8-4116-81c6-b796b7913930",
   "metadata": {},
   "source": [
    "| Regex Part    | Meaning                                                      |\n",
    "| ------------- | ------------------------------------------------------------ |\n",
    "| `^`           | Start of the string                                          |\n",
    "| `(?=.*[A-Z])` | Must contain **at least one uppercase** letter               |\n",
    "| `(?=.*[a-z])` | Must contain **at least one lowercase** letter               |\n",
    "| `(?=.*\\d)`    | Must contain **at least one digit (0–9)**                    |\n",
    "| `(?=.*[@$#])` | Must contain **at least one special character** from `@ $ #` |\n",
    "| `.{8,}`       | Must be **at least 8 characters long**                       |\n",
    "| `$`           | End of the string                                            |\n"
   ]
  },
  {
   "cell_type": "code",
   "execution_count": 50,
   "id": "894e39e0-3fcd-4f43-a948-ae7cef74e874",
   "metadata": {},
   "outputs": [
    {
     "name": "stdout",
     "output_type": "stream",
     "text": [
      "<re.Match object; span=(0, 4), match='data'>\n"
     ]
    }
   ],
   "source": [
    "# Match exact text\n",
    "pattern = r\"data\"  # Finds the word \"data\"\n",
    "\n",
    "text = \"data science\"\n",
    "\n",
    "result = re.search(pattern, text)  # Found!\n",
    "print(result)"
   ]
  },
  {
   "cell_type": "code",
   "execution_count": 51,
   "id": "1e6ad3b2-b088-4acf-a5c9-b56e3b375a5d",
   "metadata": {},
   "outputs": [
    {
     "name": "stdout",
     "output_type": "stream",
     "text": [
      "['1', '2', '3']\n"
     ]
    }
   ],
   "source": [
    "# \\d = any number (0-9)\n",
    "pattern = r\"\\d\"     # Finds any single digit\n",
    "\n",
    "text = \"Price: 123\"\n",
    "\n",
    "result = re.findall(r\"\\d\", text)  # ['1', '2', '3']\n",
    "\n",
    "# \\w = any letter, number, or underscore\n",
    "pattern = r\"\\w\"     # Finds word characters\n",
    "\n",
    "# \\s = any space\n",
    "pattern = r\"\\s\"     # Finds spaces\n",
    "\n",
    "print(result)"
   ]
  },
  {
   "cell_type": "code",
   "execution_count": 52,
   "id": "3461f20a-d045-412d-b1ed-4f7627609ca1",
   "metadata": {},
   "outputs": [
    {
     "name": "stdout",
     "output_type": "stream",
     "text": [
      "['123']\n"
     ]
    }
   ],
   "source": [
    "# + means \"one or more\"\n",
    "pattern = r\"\\d+\"    # Finds one or more digits together\n",
    "\n",
    "text = \"Price: 123\"\n",
    "\n",
    "result = re.findall(pattern, text)  # ['123']\n",
    "\n",
    "# * means \"zero or more\"\n",
    "pattern = r\"\\d*\"    # Finds zero or more digits\n",
    "\n",
    "print(result)"
   ]
  },
  {
   "cell_type": "code",
   "execution_count": 53,
   "id": "4b1ea4bf-b83b-48aa-827e-001aeabb241e",
   "metadata": {},
   "outputs": [
    {
     "name": "stdout",
     "output_type": "stream",
     "text": [
      "555\n"
     ]
    }
   ],
   "source": [
    "text = \"My email is john@email.com and phone is 555-1234\"\n",
    "\n",
    "# 1. Find first match\n",
    "match = re.search(r\"\\d+\", text)\n",
    "\n",
    "print(match.group())  # \"555\"\n"
   ]
  },
  {
   "cell_type": "code",
   "execution_count": 54,
   "id": "ff45cd47-e5d2-4ecd-97fa-f59de63a6aae",
   "metadata": {},
   "outputs": [
    {
     "name": "stdout",
     "output_type": "stream",
     "text": [
      "['555', '1234']\n"
     ]
    }
   ],
   "source": [
    "# 2. Find all matches  \n",
    "all_numbers = re.findall(r\"\\d+\", text)\n",
    "print(all_numbers)  # ['555', '1234']"
   ]
  },
  {
   "cell_type": "code",
   "execution_count": 55,
   "id": "ff71e87b-53de-4b1a-98ed-3eef97e61d68",
   "metadata": {},
   "outputs": [
    {
     "name": "stdout",
     "output_type": "stream",
     "text": [
      "['29.99', '45.5056']\n"
     ]
    }
   ],
   "source": [
    "# Problem: Get prices from messy text\n",
    "text = \"Item costs $29.99, was $45.5056\"\n",
    "\n",
    "# Solution: Find all numbers with decimal points\n",
    "prices = re.findall(r\"\\d+\\.\\d+\", text)\n",
    "\n",
    "print(prices)  # ['29.99', '45.50']"
   ]
  },
  {
   "cell_type": "code",
   "execution_count": 56,
   "id": "206bc1b1-e811-429f-a7ad-c7c822d5c20d",
   "metadata": {},
   "outputs": [
    {
     "name": "stdout",
     "output_type": "stream",
     "text": [
      "['5551234567', '5551234567', '5551234567']\n"
     ]
    }
   ],
   "source": [
    "# Problem: Phone numbers in different formats\n",
    "phones = [\"(555) 123-4567\", \"555-123-4567\", \"5551234567\"]\n",
    "\n",
    "# Solution: Extract just the digits\n",
    "clean_phones = []\n",
    "for i in phones:\n",
    "    digits = re.findall(r\"\\d\", i)\n",
    "    clean_phone = \"\".join(digits)\n",
    "    clean_phones.append(clean_phone)\n",
    "\n",
    "print(clean_phones)  # ['5551234567', '5551234567', '5551234567']"
   ]
  },
  {
   "cell_type": "code",
   "execution_count": 58,
   "id": "fb82c764-554e-45d5-b4b2-a07efb53f7cb",
   "metadata": {},
   "outputs": [
    {
     "name": "stdout",
     "output_type": "stream",
     "text": [
      "['support123@company.com', 'sales@business.org']\n"
     ]
    }
   ],
   "source": [
    "# Problem: Extract emails from text\n",
    "text = \"Contact us at support123@company.com or sales@business.org\"\n",
    "\n",
    "# Solution: Simple email pattern\n",
    "emails = re.findall(r\"\\w+@\\w+\\.\\w+\", text)\n",
    "print(emails)  # ['support@company.com', 'sales@business.org']"
   ]
  },
  {
   "cell_type": "code",
   "execution_count": 59,
   "id": "a6b72e0b-bdac-433f-af2b-2e06efef3b20",
   "metadata": {},
   "outputs": [
    {
     "name": "stdout",
     "output_type": "stream",
     "text": [
      "['2023-10-15', '2023-11-20']\n"
     ]
    }
   ],
   "source": [
    "# Problem: Find dates in format YYYY-MM-DD\n",
    "text = \"Events on 2023-10-15 and 2023-11-20\"\n",
    "\n",
    "# Solution: Pattern for date format\n",
    "dates = re.findall(r\"\\d{4}-\\d{2}-\\d{2}\", text)\n",
    "print(dates)  # ['2023-10-15', '2023-11-20']"
   ]
  },
  {
   "cell_type": "code",
   "execution_count": null,
   "id": "d6f3cabb-6422-4d65-a484-a2ed498959c7",
   "metadata": {},
   "outputs": [],
   "source": []
  }
 ],
 "metadata": {
  "kernelspec": {
   "display_name": "Python 3 (ipykernel)",
   "language": "python",
   "name": "python3"
  },
  "language_info": {
   "codemirror_mode": {
    "name": "ipython",
    "version": 3
   },
   "file_extension": ".py",
   "mimetype": "text/x-python",
   "name": "python",
   "nbconvert_exporter": "python",
   "pygments_lexer": "ipython3",
   "version": "3.11.7"
  }
 },
 "nbformat": 4,
 "nbformat_minor": 5
}
